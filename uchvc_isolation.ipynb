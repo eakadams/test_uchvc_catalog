{
 "cells": [
  {
   "cell_type": "markdown",
   "metadata": {},
   "source": [
    "This notebook is for testing and determining isolation criteria for UCHVCs\n",
    "\n",
    "\n",
    "I am returning on 9 July 2018 to start looking at this again"
   ]
  },
  {
   "cell_type": "code",
   "execution_count": 1,
   "metadata": {
    "collapsed": true
   },
   "outputs": [],
   "source": [
    "%matplotlib inline"
   ]
  },
  {
   "cell_type": "code",
   "execution_count": 2,
   "metadata": {
    "collapsed": true
   },
   "outputs": [],
   "source": [
    "import sys\n",
    "#from pprint import pprint as p\n",
    "#p(sys.path)\n",
    "\n",
    "#even though I have added my python directory to path and pythonpath, it's not showing up\n",
    "#so i'll add it here manually (and do this in all my future notebooks)\n",
    "sys.path.append('/Users/adams/python')"
   ]
  },
  {
   "cell_type": "code",
   "execution_count": 25,
   "metadata": {},
   "outputs": [],
   "source": [
    "import numpy as np\n",
    "import matplotlib.pyplot as plt\n",
    "from astropy.table import Table, Column\n",
    "from astropy.io import ascii\n",
    "from astropy import coordinates as coord\n",
    "from astropy import units as u\n",
    "import alfalfa\n",
    "import uchvcs\n",
    "from astropy.coordinates import SkyCoord"
   ]
  },
  {
   "cell_type": "code",
   "execution_count": 5,
   "metadata": {},
   "outputs": [
    {
     "name": "stdout",
     "output_type": "stream",
     "text": [
      "check got hiname\n",
      "check got ra,dec\n",
      "check got l,b\n",
      "check got vels\n",
      "done with cands\n",
      "done with code 9s\n"
     ]
    }
   ],
   "source": [
    "#get candidates catalog\n",
    "name='/Users/adams/data/uchvcs/catalog/spring/spring_candidates.csv'\n",
    "spring_cands=alfalfa.get_cat(name)\n",
    "\n",
    "print 'done with cands'\n",
    "\n",
    "#and code9s for comparison:\n",
    "\"\"\"In July 2018, I got the most recent 100% a grids catalog from egg.astro.cornell.edu\n",
    "However, it was missing HI size.\n",
    "So I used an older a grids catalog that I had, which included 3s & 4s\n",
    "I'm not 100% sure this is the full sky coverage (it might only be a70)\n",
    "but I will proceed for now, and check w/ Martha later.\n",
    "\"\"\"\n",
    "\n",
    "code9s=ascii.read('/Users/adams/data/uchvcs/catalog/code9s_cat.txt')\n",
    "\n",
    "\n",
    "\n",
    "print 'done with code 9s'"
   ]
  },
  {
   "cell_type": "code",
   "execution_count": 6,
   "metadata": {},
   "outputs": [
    {
     "name": "stdout",
     "output_type": "stream",
     "text": [
      "['AGC', 'HIname', 'RA', 'Dec', 'l', 'b', 'cz', 'vlsr', 'vgsr', 'vlg', 'vdev', 'w50', 'hsize', 'flux', 'SN', 'code']\n"
     ]
    }
   ],
   "source": [
    "print code9s.colnames"
   ]
  },
  {
   "cell_type": "code",
   "execution_count": 7,
   "metadata": {
    "collapsed": true
   },
   "outputs": [],
   "source": [
    "#also want to get just spring code9s for comparison purposes\n",
    "#ind1 = np.where( code9s['RA']<270 )\n",
    "#ind2=np.where(code9s['RA']> 60)\n",
    "ind=np.where((code9s['RA']<270) & (code9s['RA']> 60) )\n",
    "spring_code9s = code9s[ind]"
   ]
  },
  {
   "cell_type": "code",
   "execution_count": 12,
   "metadata": {},
   "outputs": [
    {
     "name": "stdout",
     "output_type": "stream",
     "text": [
      "['Count', 'L', 'B', 'RA', 'dec', 'Vlsr', 'Vgsr', 'Vlgsr', 'Vdev', 'Vz', 'Tmax', 'N', 'Omega', 'Flux', 'err', 'ass', 'cpx', 'pop']\n",
      "['ID', 'RA', 'Dec', 'l', 'b', 'cz', 'vlsr', 'vgsr', 'vlg', 'vdev', 'flux']\n"
     ]
    }
   ],
   "source": [
    "#get the WvW catalog for large-scale isolation\n",
    "#I haven't created a script here, so I'll just do it myself here\n",
    "#and can change later as needed\n",
    "name='/Users/adams/data/uchvcs/catalog/spring/wvw_hvc_cat_edited.txt'\n",
    "tmp=ascii.read('/Users/adams/data/uchvcs/catalog/spring/wvw_hvc_cat_edited.txt')\n",
    "#edited version adds a column (count, or number) plus cleans up notes at end of columns\n",
    "print tmp.colnames\n",
    "wvw_gl=tmp['L']\n",
    "wvw_gb=tmp['B']\n",
    "c=coord.Galactic(l=gl,b=gb,unit=(u.degree,u.degree))\n",
    "crd = c.transform_to(coord.ICRS)\n",
    "wvw_ra=crd.ra.degree\n",
    "wvw_dec=crd.dec.degree\n",
    "wvw_cz,wvw_vlsr,wvw_vgsr,wvw_vlg,wvw_vdev=alfalfa.get_vels(name) #note that this is my calculation of vels\n",
    "#but everything except cz is in file\n",
    "#So I should do a comparison at some point in time (but not now)\n",
    "\n",
    "wvw_cat = Table([tmp['Count'],wvw_ra,wvw_dec,wvw_gl,wvw_gb,wvw_cz,wvw_vlsr,wvw_vgsr,wvw_vlg,wvw_vdev,tmp['Flux']],\n",
    "                names=('ID','RA','Dec','l','b','cz','vlsr','vgsr','vlg','vdev','flux'))\n",
    "\n",
    "print wvw_cat.colnames"
   ]
  },
  {
   "cell_type": "code",
   "execution_count": 13,
   "metadata": {},
   "outputs": [
    {
     "name": "stdout",
     "output_type": "stream",
     "text": [
      "Count   L     B     RA     dec    Vlsr   Vgsr  ... Omega  Flux err  ass  cpx pop\n",
      "----- ----- ----- ------ ------- ------ ------ ... ----- ----- ---- ---- --- ---\n",
      "    1  95.0  78.0 1319.0  3733.0  -95.0  -49.4 ...   0.5    16   12 -1.0  hn   N\n",
      "    2 263.5  75.1 1212.0  1516.0  100.7   44.3 ...   3.2   217   64 -1.0  hp   P\n",
      "    3 135.0  72.0 1230.0  4438.0  152.0  200.1 ...   0.8   107   77 -1.0  ip   P\n",
      "    4  62.5  71.0 1412.0  3502.0  -98.0  -34.5 ...   0.8    68   50 -1.0  hn   N\n",
      "    5  50.0  67.0 1435.0  3127.0  -88.0  -22.2 ...   1.0    36   27 -1.0  hn   N\n",
      "    6 177.5  67.0 1115.0  3824.0  -86.0  -82.3 ...   1.0   770  566 -1.0   M   N\n",
      "    7 257.5  66.0 1143.0   921.0   76.0  -11.4 ...   1.0    91   67 -1.0  wb   P\n",
      "    8 150.7  65.6 1144.0  4747.0  -96.2  -52.9 ...  62.8 22820 1940 -1.0   M   N\n",
      "    9 242.5  65.5 1124.0  1329.0   73.8   -7.0 ...   2.1   109   42 -1.0  wb   P\n",
      "   10 102.5  64.0 1347.0  5050.0  -91.0    3.2 ...   1.1  1163  855 -1.0  hn   N\n",
      "  ...   ...   ...    ...     ...    ...    ... ...   ...   ...  ...  ... ... ...\n",
      "  617 250.0 -22.5  624.0 -4204.0  153.0  -38.0 ...   0.2    14   11 -1.0  WC   P\n",
      "  618 255.1 -17.6  658.0 -4504.0  154.6  -48.1 ...   2.2   211   29 -1.0  WC   P\n",
      "  619 276.5 -23.0  707.0 -6543.0  270.0   68.8 ...   0.2    20   15 -1.0  EP  EP\n",
      "  620 275.4 -10.1  843.0 -5856.0  262.7   47.1 ...   2.0   153   45 -1.0  EP  EP\n",
      "  621 285.1 -11.3  930.0 -6656.0  272.1   63.9 ...   1.2    94   34 -1.0  EP  EP\n",
      "  622 283.3  -5.3  955.0 -6113.0  203.0  -10.2 ...   1.0    92   20 -1.0  EP  EP\n",
      "  623   4.6  -3.7 1810.0 -2647.0   88.6  106.2 ...   1.2   154  138 -1.0  CR  CR\n",
      "  624   1.4  -3.5 1802.0 -2930.0 -177.1 -171.8 ...   1.0    64   14 -1.0  CR  CR\n",
      "  625   2.0  -0.5 1752.0 -2728.0 -157.0 -149.3 ...   0.2    28   21 -1.0  CR  CR\n",
      "  626   2.0   3.0 1738.0 -2539.0 -199.0 -191.3 ...   0.2    21   15 -1.0  CR  CR\n",
      "  627  30.5 -51.0 2200.0 -2213.0 -135.0  -64.7 ...   8.0  1673  640 -1.0  hn   N\n",
      "Length = 617 rows\n",
      " ID       RA           Dec         l     b   ...  vgsr   vlg    vdev   flux\n",
      "--- ------------- -------------- ----- ----- ... ------ ------ ------ -----\n",
      "  1 199.915864314   37.553520656  95.0  78.0 ...  -49.4  -74.3  -94.8    16\n",
      "  2 183.111015787  15.3013934402 263.5  75.1 ...   44.3    2.1  100.2   217\n",
      "  3 187.650145795   44.636766234 135.0  72.0 ...  200.1  189.1  152.0   107\n",
      "  4 213.092999833  35.0381191778  62.5  71.0 ...  -34.5  -65.3  -98.0    68\n",
      "  5 218.826759439  31.4531675234  50.0  67.0 ...  -22.2  -58.0  -88.0    36\n",
      "  6 168.885612104  38.4137591233 177.5  67.0 ...  -82.3  -89.6  -85.7   770\n",
      "  7 175.781612033  9.35393278013 257.5  66.0 ...  -11.4  -53.8   73.9    91\n",
      "  8 176.216061424  47.7804868242 150.7  65.6 ...  -52.9  -55.3  -92.3 22820\n",
      "  9 171.089681589  13.4623478542 242.5  65.5 ...   -7.0  -41.7   69.6   109\n",
      " 10 206.885377457  50.8445486888 102.5  64.0 ...    3.2   -5.3  -88.2  1163\n",
      "...           ...            ...   ...   ... ...    ...    ...    ...   ...\n",
      "617 96.1551792539 -42.0759223129 250.0 -22.5 ...  -38.0  -39.7  106.5    14\n",
      "618 104.697482412 -45.0209363751 255.1 -17.6 ...  -48.1  -59.1   92.9   211\n",
      "619 106.784243247 -65.7504684128 276.5 -23.0 ...   68.8   39.4  254.7    20\n",
      "620  130.86289203 -58.9740841097 275.4 -10.1 ...   47.1    8.3  118.0   153\n",
      "621  142.78107531 -66.9489659879 285.1 -11.3 ...   63.9   17.1  213.0    94\n",
      "622 148.777243204 -61.2574294936 283.3  -5.3 ...  -10.2  -59.9   59.8    92\n",
      "623 272.629723349 -26.8023868073   4.6  -3.7 ...  106.2   50.4 -111.3   154\n",
      "624 270.675589574 -29.4990578415   1.4  -3.5 ... -171.8 -230.6 -173.5    64\n",
      "625  268.06055323 -27.4796003654   2.0  -0.5 ... -149.3 -209.6 -151.8    28\n",
      "626 264.719566416  -25.656810787   2.0   3.0 ... -191.3 -253.6 -193.8    21\n",
      "627 330.079752377 -22.2180111545  30.5 -51.0 ...  -64.7  -58.4 -135.0  1673\n",
      "Length = 617 rows\n"
     ]
    }
   ],
   "source": [
    "\"\"\"Do a comparison of my calculated velocity values compared to those from catalog for WvW.\n",
    "Or do I even calculate them and just take them instead?\"\"\"\n",
    "\n",
    "print tmp\n",
    "print wvw_cat"
   ]
  },
  {
   "cell_type": "code",
   "execution_count": 24,
   "metadata": {},
   "outputs": [
    {
     "name": "stdout",
     "output_type": "stream",
     "text": [
      "['RA+Dec', 'vh', 'GalaxyName']\n"
     ]
    }
   ],
   "source": [
    "#Now need to get Local Galaxies\n",
    "#Basically just dleted everything that wasn't coords or vel\n",
    "#Need to figure out how to read this catalog properly, for general future use \n",
    "#Write a separate script for that\n",
    "#Okay - I'm using way, way too much time to try and figure this out, when I can come \n",
    "#back and do it properly later\n",
    "#And I'd rather focus on making plots and looking at criteria\n",
    "#So I'll just use my old file that I can read, and worry about the new gals from DES later\n",
    "\n",
    "lg=ascii.read('/Users/adams/data/uchvcs/catalog/local_gals_positions_nov12.txt')\n",
    "print lg.colnames\n",
    "lg_ra,lg_dec = alfalfa.get_radec('/Users/adams/data/uchvcs/catalog/local_gals_positions_nov12.txt')\n",
    "#print lg_ra,lg_dec"
   ]
  },
  {
   "cell_type": "code",
   "execution_count": 64,
   "metadata": {
    "scrolled": false
   },
   "outputs": [
    {
     "name": "stdout",
     "output_type": "stream",
     "text": [
      "[26]\n"
     ]
    }
   ],
   "source": [
    "#Okay, now that I have all my catalogs (kind of) read-in, \n",
    "#I want to start looking at isolation criteria\n",
    "\n",
    "#First, I want to look at separation of LG gals from each other\n",
    "#Do this both in angular space (on the sky)\n",
    "#Plus also in 3-D space\n",
    "#What linking scale do I want to use?\n",
    "#Say that typical size is 1 kpc, with velocity dispersion of 10 km/s, at distance of 1 Mpc\n",
    "#Then typical size is 206\", or ~3.4'. If I want a separation in velocity equal to spatial size,\n",
    "#That's ~25 km/s (~FWHM) to 3.5' (rounding numbers), or .14' per km/s, or 0.00233 deg per km/s\n",
    "#Note that this probably on high side for angular size, so I might want to change this number\n",
    "\n",
    "\n",
    "\n",
    "#First, get angular distance of each LG galaxy from 1st, 2nd, 3rd nearest neighbor (will probably use 3rd?)\n",
    "#First put into skycoords\n",
    "\n",
    "coord_LG = SkyCoord(lg_ra,lg_dec,\"icrs\", unit=\"deg\")\n",
    "lgangdist_1st = np.zeros(len(lg_ra))\n",
    "lgangdist_2nd = np.zeros(len(lg_ra))\n",
    "lgangdist_3rd = np.zeros(len(lg_ra))\n",
    "\n",
    "\n",
    "for i,gal in enumerate(lg['GalaxyName']):\n",
    "    sep = coord_LG.separation(coord_LG[i])\n",
    "    first = np.sort(sep)[1]\n",
    "    second = np.sort(sep)[2]\n",
    "    third = np.sort(sep)[3]\n",
    "    lgangdist_1st[i]=first.value    #this is the only way I can set things - by getting value (in degs) and dropping astropy units\n",
    "    lgangdist_2nd[i]=second.value\n",
    "    lgangdist_3rd[i]=third.value\n",
    "\n",
    "    \n",
    "#Also get the 3D distance\n",
    "#I had defined 3D distance as\n",
    "#sqrt( angdist^2 + (f*dv)^2)\n",
    "#So I can just modify code above to add an extra calculation\n",
    "\n",
    "lg3ddist_1st = np.zeros(len(lg_ra))\n",
    "lg3ddist_2nd = np.zeros(len(lg_ra))\n",
    "lg3ddist_3rd = np.zeros(len(lg_ra))\n",
    "\n",
    "#check that there are velocities; otherwise assume velocity offset is zero (conservative estimate)\n",
    "#Looks like 999.9 is my \"no vel\" value; otherwise value is good\n",
    "ind_novel = np.where(lg['vh']== 999.9)[0]\n",
    "print ind_novel\n",
    "\n",
    "for i,gal in enumerate(lg['GalaxyName']):\n",
    "    sep = coord_LG.separation(coord_LG[i])\n",
    "    angsep = np.array(sep.value)\n",
    "    #check that there are velocities; otherwise assume velocity offset is zero (conservative estimate)\n",
    "    #Looks like 999.9 is my \"no vel\" value; otherwise value is good\n",
    "    dv = np.array (lg['vh']-lg['vh'][i])\n",
    "    dv[ind_novel] = 0\n",
    "    sep3d = np.sqrt((angsep)**2 + (0.00233*dv)**2)\n",
    "    first = np.sort(sep3d)[1]\n",
    "    second = np.sort(sep3d)[2]\n",
    "    third = np.sort(sep3d)[3]\n",
    "    lg3ddist_1st[i]=first\n",
    "    lg3ddist_2nd[i]=second\n",
    "    lg3ddist_3rd[i]=third\n"
   ]
  },
  {
   "cell_type": "code",
   "execution_count": 84,
   "metadata": {},
   "outputs": [
    {
     "data": {
      "text/plain": [
       "(0, 50)"
      ]
     },
     "execution_count": 84,
     "metadata": {},
     "output_type": "execute_result"
    },
    {
     "data": {
      "image/png": "[encoded data removed]",
      "text/plain": [
       "<matplotlib.figure.Figure at 0x113c55f10>"
      ]
     },
     "metadata": {},
     "output_type": "display_data"
    }
   ],
   "source": [
    "#OKAY!\n",
    "#Now I should have 1st-3rd nearest neighbors, so let's make plots!\n",
    "\n",
    "#I want to plot cumulative fraction with Nth nearest neighbor as a function of distance\n",
    "#For both angular separation and 3D\n",
    "\n",
    "#print lg3ddist_1st, lgangdist_1st\n",
    "\n",
    "values_lg_2d_first, bins = np.histogram(lgangdist_1st, bins=100,range=(0,100))\n",
    "cum_lg_2d_first = np.cumsum(values_lg_2d_first)/float(len(lg))\n",
    "\n",
    "#print values_lg_2d_first\n",
    "#print cum_lg_2d_first\n",
    "\n",
    "values_lg_3d_first, bins = np.histogram(lg3ddist_1st, bins=100,range=(0,100))\n",
    "cum_lg_3d_first = np.cumsum(values_lg_3d_first)/float(len(lg))\n",
    "\n",
    "#print values_lg_3d_first\n",
    "#print cum_lg_3d_first\n",
    "\n",
    "values_lg_2d_second, bins = np.histogram(lgangdist_2nd, bins=100,range=(0,100))\n",
    "cum_lg_2d_second = np.cumsum(values_lg_2d_second)/float(len(lg))\n",
    "\n",
    "#print lgangdist_2nd, cum_lg_2d_second\n",
    "\n",
    "values_lg_3d_second, bins = np.histogram(lg3ddist_2nd, bins=100,range=(0,100))\n",
    "cum_lg_3d_second = np.cumsum(values_lg_3d_second)/float(len(lg))\n",
    "\n",
    "values_lg_2d_third, bins = np.histogram(lgangdist_3rd, bins=100,range=(0,100))\n",
    "cum_lg_2d_third = np.cumsum(values_lg_2d_second)/float(len(lg))\n",
    "\n",
    "values_lg_3d_third, bins = np.histogram(lg3ddist_3rd, bins=100,range=(0,100))\n",
    "cum_lg_3d_third = np.cumsum(values_lg_3d_third)/float(len(lg))\n",
    "\n",
    "\n",
    "# plot the cumulative function\n",
    "plt.plot(bins[:-1], cum_lg_2d_first, c='blue',linestyle='--')\n",
    "plt.plot(bins[:-1],cum_lg_2d_second,c='magenta',linestyle='--')\n",
    "plt.plot(bins[:-1],cum_lg_2d_third,c='green',linestyle='--')\n",
    "\n",
    "plt.plot(bins[:-1], cum_lg_3d_first, c='blue')\n",
    "plt.plot(bins[:-1],cum_lg_3d_second,c='magenta')\n",
    "plt.plot(bins[:-1],cum_lg_3d_third,c='green')\n",
    "\n",
    "\n",
    "\n",
    "#plt.plot([25,25],[0,1],'k')\n",
    "#plt.plot([18,18],[0,1],'k')\n",
    "\n",
    "#plt.axis([0,1.1,0,100])\n",
    "\n",
    "plt.ylim(0,1.1)\n",
    "plt.xlim(0,50)\n",
    "\n",
    "\n",
    "#Given how I defined 3D separation, there is essentially no difference form 2D\n",
    "#Makes sense since I used a very small linking value\n",
    "#I will have to return to looking at that value more closely\n",
    "#What I can se, is that galaxies are clustered\n",
    "#Might want to move to an even further nearest neighbor, e.g., 5, 7, or 9\n",
    "#That way I can remove LSS effects (we know galaxies come together\n",
    "\n",
    "#So, I want to do that, and then also look at separation from WvW and code 9s in ALFALFA (for those in spring footprint)\n",
    "#In order to do that, I would like to work on making some general purpose code first\n",
    "#That way I can play around and experiment easily"
   ]
  },
  {
   "cell_type": "code",
   "execution_count": 85,
   "metadata": {
    "collapsed": true
   },
   "outputs": [],
   "source": [
    "#Worked on general code in uchvcs.py\n",
    "#Copy here and see if it works, then update there once it works"
   ]
  },
  {
   "cell_type": "code",
   "execution_count": 92,
   "metadata": {
    "collapsed": true
   },
   "outputs": [],
   "source": [
    "def get_Nth_neighbor(coords1,vel1,coords2=None,vel2=None, N=3, f=0.2):\n",
    "    #coords1: skycoord for primary catalog for whcih I want nearest neighbors\n",
    "    #vel1: velocities for primary catalog\n",
    "    #coords2,vel2: same but for catalog from which I compute distances\n",
    "    #If none is given, default to primary (w/in self)\n",
    "    #N: Nth nearest neihgbor\n",
    "    #f: linking scale for 3D distancs\n",
    "    #Note: if any values are missing (e.g., vels) need to make sure to replace iwth NaNs before using here\n",
    "    #first check if I need to ignore source or not:\n",
    "    if coords2 == None:\n",
    "        ind_neighbor = N\n",
    "    else:\n",
    "        ind_neighbor = N-1\n",
    "    if coords2 == None:\n",
    "        coords2 = coords1\n",
    "    if vel2 == None:\n",
    "        vel2 = vel1 #even if coords is different, can ignore 3d part if not given\n",
    "   \n",
    "\n",
    "    dist2d = np.zeros(len(coords1))\n",
    "    dist3d = np.zeros(len(coords1))\n",
    "    for i,c in enumerate(coords1):\n",
    "        sep = coords2.separation(coords1[i])\n",
    "        angsep = np.array(sep.value)\n",
    "        dv = vel1 - vel2\n",
    "        dist2d[i] = np.sort(angsep)[ind_neighbor]\n",
    "        sep3d = np.sqrt((angsep)**2 + (f*dv)**2)\n",
    "        dist3d[i] = np.sort(sep3d)[ind_neighbor]\n",
    "\n",
    "    return dist2d,dist3d"
   ]
  },
  {
   "cell_type": "code",
   "execution_count": 118,
   "metadata": {
    "collapsed": true
   },
   "outputs": [],
   "source": [
    "def plot_Nth_neighbors(coords1,vel1,coords2=None,vel2=None,N=[3],f=[0.2]):\n",
    "    #plots the Nth nearest neighbors\n",
    "    #same inputs as get_Nth_neighbor\n",
    "    #Except! coords2, vel2, N, f can all be arrays\n",
    "    #Which means they must be passed as lists!\n",
    "    #in practice, it will be easiest to only iterate on one at a time\n",
    "    if coords2 == None:\n",
    "        N=np.array(N)+1 #since I won't subtract from it when calling get_Nth_neighbors because I'll pass c2\n",
    "#    else:\n",
    "#        ind_neighbor = np.array(N)-1\n",
    "    if coords2 == None:\n",
    "        coords2 = [coords1]\n",
    "    if vel2 == None:\n",
    "        vel2 = vel1 #even if coords is different, can ignore 3d part if not given\n",
    "    #now I will have to be fancy with my iteration, am assuming I can iterate over almost everything\n",
    "    #Not sure if there's an order that makes most sense - top down or bottom up?\n",
    "    #Will go top down and just try and make sure I only ever call this function in a reasonable manner\n",
    "    ntot = len(coords2)*len(N)*len(f)\n",
    "    dist2d = []#np.empty(ntot,len(coords1))\n",
    "    dist3d = []#np.empty(ntot,len(coords1))\n",
    "    label = [] #np.empty(ntot)\n",
    "    i=0 #index\n",
    "    for k,[cat2,v2] in enumerate(zip(coords2,vel2)):\n",
    "        for neigh in N:\n",
    "            for link in f: #only iterate for 3D\n",
    "                d2d,d3d = get_Nth_neighbor(coords1,vel1,cat2,v2, neigh, link)\n",
    "                dist2d.append(d2d) #[i,:] = d2d\n",
    "                dist3d.append (d3d) #[i,:] = d3d\n",
    "                label.append('Cat '+str(k)+', '+str(neigh)+'th N w/ '+str(link)+'deg/km/s')\n",
    "                #i=i+1\n",
    "    #now do the plotting!\n",
    "    fig, ax1=plt.subplots(1,1,figsize=(6,6))\n",
    "    for i in xrange(len(label)):\n",
    "        values2d, bins = np.histogram(dist2d[i], bins=500,range=(0,100))\n",
    "        cum2d = np.cumsum(values2d)/float(len(coords1))\n",
    "        values3d, bins = np.histogram(dist3d[i], bins=500,range=(0,100))\n",
    "        cum3d = np.cumsum(values3d)/float(len(coords1))\n",
    "        plt.plot(bins[:-1], cum2d,linestyle='--',label='2D, '+label[i])\n",
    "        plt.plot(bins[:-1], cum3d,label='3D, '+label[i])\n",
    "        plt.ylim(0,1.1)\n",
    "        plt.xlim(0,100)\n",
    "        plt.legend(loc=4)\n",
    "\n",
    "    return fig"
   ]
  },
  {
   "cell_type": "code",
   "execution_count": 119,
   "metadata": {},
   "outputs": [
    {
     "name": "stdout",
     "output_type": "stream",
     "text": [
      "3\n"
     ]
    }
   ],
   "source": [
    "dist2d,dist3d = get_Nth_neighbor(coord_LG,lg['vh']) #,coords2=None,vel2=None, N=3, f=0.2)"
   ]
  },
  {
   "cell_type": "code",
   "execution_count": 120,
   "metadata": {},
   "outputs": [
    {
     "name": "stdout",
     "output_type": "stream",
     "text": [
      "3\n",
      "5\n",
      "7\n"
     ]
    },
    {
     "data": {
      "image/png": "[encoded data removed]",
      "text/plain": [
       "<matplotlib.figure.Figure at 0x114653750>"
      ]
     },
     "metadata": {},
     "output_type": "display_data"
    }
   ],
   "source": [
    "fig = plot_Nth_neighbors(coord_LG,lg['vh'],N=[3,5,7]) #(coords1,vel1,coords2=None,vel2=None,N=[3],f=[0.2]):"
   ]
  },
  {
   "cell_type": "code",
   "execution_count": null,
   "metadata": {
    "collapsed": true
   },
   "outputs": [],
   "source": []
  },
  {
   "cell_type": "code",
   "execution_count": null,
   "metadata": {
    "collapsed": true
   },
   "outputs": [],
   "source": []
  },
  {
   "cell_type": "code",
   "execution_count": null,
   "metadata": {
    "collapsed": true
   },
   "outputs": [],
   "source": []
  },
  {
   "cell_type": "code",
   "execution_count": null,
   "metadata": {
    "collapsed": true
   },
   "outputs": [],
   "source": []
  },
  {
   "cell_type": "code",
   "execution_count": 45,
   "metadata": {
    "collapsed": true
   },
   "outputs": [
    {
     "name": "stdout",
     "output_type": "stream",
     "text": [
      "       AGC               HIname       ...         SN              WvW     \n",
      "------------------ ------------------ ... ------------------ -------------\n",
      "-1.72723371102e-77 -1.72723371102e-77 ... -1.72723371102e-77 42.5164740474\n",
      "2.68156175181e+154 -1.72723381839e-77 ... -2.6815617518e+154 28.3538523982\n",
      "2.96439387505e-323 2.21291626788e-314 ...     0.111004847399 29.1585738292\n",
      "               0.0  1.28501997096e-05 ...     0.252238656195 25.1476807142\n",
      "     69.6240234375 2.21291096854e-314 ...     0.347330687835  38.286607322\n",
      " 1.15998411999e-28 2.21291097249e-314 ...     0.798036785013 19.1141316563\n",
      "1.99270016953e+209 2.18057566844e-314 ...     0.537364354603 48.1220519891\n",
      "1.44499267528e+214 2.21542499193e-314 ...     0.126700150186 33.7628150755\n",
      "3.80985006741e+180                1.0 ...     0.520671155277 45.2060538498\n",
      "4.71357970852e+257                0.0 ...     0.176260301403  19.796260463\n",
      "     67.2312089178 -1.72723381839e-77 ...     0.386070644982 18.8811561981\n",
      "9.11746622491e-309 8.34402835247e-309 ... 9.58934224131e-309 63.9453474998\n"
     ]
    }
   ],
   "source": [
    "#now I want to check isolation from WvW catalog - here is where I will have strictest criterion.\n",
    "#Will look only at spring sky\n",
    "#i would like to be able to add a column to spring_cands that contains the distance to nearest WvW cloud using f=0.5 ()\n",
    "#note that this is just using add_col_neigh_dist with Nth=1 (default, takes closets objects)\n",
    "#print spring_cands\n",
    "\n",
    "spring_cands_wvw = alfalfa.add_col_neigh_dist(spring_cands,wvw,name='WvW')\n",
    "\n",
    "#print spring_cands_wvw\n",
    "\n",
    "lg_wvw = alfalfa.add_col_neigh_dist(lg,wvw,name='WvW')\n",
    "\n",
    "lg_spring_wvw = alfalfa.add_col_neigh_dist(lg_spring,wvw,name='WvW')\n",
    "\n",
    "#get same for WvW catalog - want to know the typical linking scale there\n",
    "\n",
    "wvw_dist = alfalfa.add_col_neigh_dist(wvw,wvw,Nth=2,name='dist_wvw')\n",
    "\n",
    "print lg_spring_wvw\n",
    "\n",
    "codes9s = alfalfa.add_col_neigh_dist(code9s,wvw,name='WvW')\n",
    "\n",
    "spring_code9s=alfalfa.add_col_neigh_dist(spring_code9s,wvw,name='WvW')\n",
    "\n",
    "#print lg_wvw"
   ]
  },
  {
   "cell_type": "code",
   "execution_count": 46,
   "metadata": {},
   "outputs": [
    {
     "data": {
      "text/plain": [
       "[<matplotlib.lines.Line2D at 0x10ae24f50>]"
      ]
     },
     "execution_count": 46,
     "metadata": {},
     "output_type": "execute_result"
    },
    {
     "data": {
      "image/png": "[encoded data removed]",
      "text/plain": [
       "<matplotlib.figure.Figure at 0x101c9e0d0>"
      ]
     },
     "metadata": {},
     "output_type": "display_data"
    }
   ],
   "source": [
    "#sweet\n",
    "#now I want to plot the distance to nearest WvW neighbor for these different pops\n",
    "#will also want to separate spring sky LG gals\n",
    "#want to do this as cumulative distribution function - is there an easy way to do this in matplotlib?\n",
    "values_wvw, bins = np.histogram(wvw_dist['dist_wvw'], bins=100,range=(0,50))\n",
    "n_wvw= float(len(wvw_dist['dist_wvw']))\n",
    "cum_wvw = np.cumsum(values_wvw)\n",
    "\n",
    "values_gals, bins = np.histogram(lg_wvw['WvW'], bins=100,range=(0,50))\n",
    "cum_gals = np.cumsum(values_gals)/float(len(lg_wvw))\n",
    "\n",
    "values_cands,bins = np.histogram(spring_cands_wvw['WvW'], bins=100,range=(0,50))\n",
    "cum_cands = np.cumsum(values_cands)/float(len(spring_cands_wvw))\n",
    "\n",
    "#get spring gals only:\n",
    "values_spring_gals, bins = np.histogram(lg_spring_wvw['WvW'], bins=100,range=(0,50))\n",
    "cum_spring_gals = np.cumsum(values_spring_gals)/float(len(lg_spring_wvw))\n",
    "            \n",
    "values_code9s,bins = np.histogram(code9s['WvW'], bins=100,range=(0,50))\n",
    "cum_code9s = np.cumsum(values_code9s)/float(len(code9s))\n",
    "\n",
    "\n",
    "values_spring_code9s,bins = np.histogram(spring_code9s['WvW'], bins=100,range=(0,50))\n",
    "cum_spring_code9s = np.cumsum(values_spring_code9s)/float(len(spring_code9s))\n",
    "    \n",
    "# plot the cumulative function\n",
    "plt.plot(bins[:-1], cum_wvw/n_wvw, c='blue')\n",
    "plt.plot(bins[:-1],cum_gals,'r:')\n",
    "plt.plot(bins[:-1],cum_spring_gals,'r')\n",
    "\n",
    "plt.plot(bins[:-1],cum_cands,c='magenta')\n",
    "\n",
    "plt.plot(bins[:-1],cum_code9s,'g:')\n",
    "plt.plot(bins[:-1],cum_spring_code9s,'g')\n",
    "\n",
    "plt.plot([25,25],[0,1],'k')\n",
    "plt.plot([18,18],[0,1],'k')\n",
    "\n"
   ]
  },
  {
   "cell_type": "code",
   "execution_count": 6,
   "metadata": {},
   "outputs": [
    {
     "name": "stdout",
     "output_type": "stream",
     "text": [
      "\u001b[0;31mERROR\u001b[0m: NameError: name 'cands' is not defined [IPython.core.interactiveshell]\n"
     ]
    },
    {
     "ename": "NameError",
     "evalue": "name 'cands' is not defined",
     "output_type": "error",
     "traceback": [
      "\u001b[0;31m---------------------------------------------------------------------------\u001b[0m\n\u001b[0;31mNameError\u001b[0m                                 Traceback (most recent call last)",
      "\u001b[0;32m<ipython-input-6-3b03a2b34a6c>\u001b[0m in \u001b[0;36m<module>\u001b[0;34m()\u001b[0m\n\u001b[1;32m      2\u001b[0m \u001b[0mn\u001b[0m\u001b[0;34m=\u001b[0m\u001b[0;34m[\u001b[0m\u001b[0;36m1\u001b[0m\u001b[0;34m,\u001b[0m\u001b[0;36m3\u001b[0m\u001b[0;34m,\u001b[0m\u001b[0;36m5\u001b[0m\u001b[0;34m,\u001b[0m\u001b[0;36m7\u001b[0m\u001b[0;34m,\u001b[0m\u001b[0;36m11\u001b[0m\u001b[0;34m,\u001b[0m\u001b[0;36m1\u001b[0m\u001b[0;34m,\u001b[0m\u001b[0;36m3\u001b[0m\u001b[0;34m,\u001b[0m\u001b[0;36m5\u001b[0m\u001b[0;34m,\u001b[0m\u001b[0;36m7\u001b[0m\u001b[0;34m,\u001b[0m\u001b[0;36m11\u001b[0m\u001b[0;34m,\u001b[0m\u001b[0;36m1\u001b[0m\u001b[0;34m,\u001b[0m\u001b[0;36m3\u001b[0m\u001b[0;34m,\u001b[0m\u001b[0;36m5\u001b[0m\u001b[0;34m,\u001b[0m\u001b[0;36m7\u001b[0m\u001b[0;34m,\u001b[0m\u001b[0;36m11\u001b[0m\u001b[0;34m,\u001b[0m\u001b[0;36m1\u001b[0m\u001b[0;34m,\u001b[0m\u001b[0;36m3\u001b[0m\u001b[0;34m,\u001b[0m\u001b[0;36m5\u001b[0m\u001b[0;34m,\u001b[0m\u001b[0;36m7\u001b[0m\u001b[0;34m,\u001b[0m\u001b[0;36m11\u001b[0m\u001b[0;34m]\u001b[0m\u001b[0;34m\u001b[0m\u001b[0m\n\u001b[1;32m      3\u001b[0m \u001b[0mf\u001b[0m\u001b[0;34m=\u001b[0m\u001b[0;34m[\u001b[0m\u001b[0;36m0.2\u001b[0m\u001b[0;34m,\u001b[0m\u001b[0;36m0.2\u001b[0m\u001b[0;34m,\u001b[0m\u001b[0;36m0.2\u001b[0m\u001b[0;34m,\u001b[0m\u001b[0;36m0.2\u001b[0m\u001b[0;34m,\u001b[0m\u001b[0;36m0.2\u001b[0m\u001b[0;34m,\u001b[0m\u001b[0;36m0.5\u001b[0m\u001b[0;34m,\u001b[0m\u001b[0;36m0.5\u001b[0m\u001b[0;34m,\u001b[0m\u001b[0;36m0.5\u001b[0m\u001b[0;34m,\u001b[0m\u001b[0;36m0.5\u001b[0m\u001b[0;34m,\u001b[0m\u001b[0;36m0.5\u001b[0m\u001b[0;34m,\u001b[0m\u001b[0;36m0.1\u001b[0m\u001b[0;34m,\u001b[0m\u001b[0;36m0.1\u001b[0m\u001b[0;34m,\u001b[0m\u001b[0;36m0.1\u001b[0m\u001b[0;34m,\u001b[0m\u001b[0;36m0.1\u001b[0m\u001b[0;34m,\u001b[0m\u001b[0;36m0.1\u001b[0m\u001b[0;34m,\u001b[0m\u001b[0;36m1\u001b[0m\u001b[0;34m,\u001b[0m\u001b[0;36m1\u001b[0m\u001b[0;34m,\u001b[0m\u001b[0;36m1\u001b[0m\u001b[0;34m,\u001b[0m\u001b[0;36m1\u001b[0m\u001b[0;34m,\u001b[0m\u001b[0;36m1\u001b[0m\u001b[0;34m]\u001b[0m\u001b[0;34m\u001b[0m\u001b[0m\n\u001b[0;32m----> 4\u001b[0;31m \u001b[0mdist_cands\u001b[0m\u001b[0;34m=\u001b[0m\u001b[0malfalfa\u001b[0m\u001b[0;34m.\u001b[0m\u001b[0madd_col_neigh_dist\u001b[0m\u001b[0;34m(\u001b[0m\u001b[0mcands\u001b[0m\u001b[0;34m,\u001b[0m\u001b[0mcode9s\u001b[0m\u001b[0;34m,\u001b[0m\u001b[0mNth\u001b[0m\u001b[0;34m=\u001b[0m\u001b[0mn\u001b[0m\u001b[0;34m,\u001b[0m\u001b[0mfv\u001b[0m\u001b[0;34m=\u001b[0m\u001b[0mf\u001b[0m\u001b[0;34m)\u001b[0m\u001b[0;34m\u001b[0m\u001b[0m\n\u001b[0m",
      "\u001b[0;31mNameError\u001b[0m: name 'cands' is not defined"
     ]
    }
   ],
   "source": [
    "#now do a bunch of distance calcs all at once\n",
    "n=[1,3,5,7,11,1,3,5,7,11,1,3,5,7,11,1,3,5,7,11]\n",
    "f=[0.2,0.2,0.2,0.2,0.2,0.5,0.5,0.5,0.5,0.5,0.1,0.1,0.1,0.1,0.1,1,1,1,1,1]\n",
    "dist_cands=alfalfa.add_col_neigh_dist(cands,code9s,Nth=n,fv=f)\n"
   ]
  },
  {
   "cell_type": "code",
   "execution_count": null,
   "metadata": {
    "collapsed": true
   },
   "outputs": [],
   "source": [
    "#now let's make some plots!\n",
    "#plot cdf for different dist values\n",
    "\n",
    "#values, base = np.histogram(data, bins=40)\n",
    "#evaluate the cumulative\n",
    "#cumulative = np.cumsum(values)\n",
    "# plot the cumulative function\n",
    "#plt.plot(base[:-1], cumulative, c='blue')\n",
    "\n",
    "sorted_N3_f_2=np.sort(distcat['N3_f0.2'])\n",
    "sorted_N3_f_1=np.sort(distcat['N3_f0.1'])\n",
    "sorted_N3_f_5=np.sort(distcat['N3_f0.5'])\n",
    "sorted_N3_f1=np.sort(distcat['N3_f1'])\n",
    "\n",
    "# Cumulative distributions:\n",
    "plt.step(sorted_N3_f_2, np.arange(sorted_N3_f_2.size),label='f=0.2')  # From 0 to the number of data points-1\n",
    "#plt.step(sorted_data[::-1], np.arange(sorted_data.size))  # From the number of data points-1 to 0\n",
    "plt.step(sorted_N3_f_1, np.arange(sorted_N3_f_1.size),label='f=0.1')\n",
    "plt.step(sorted_N3_f_5, np.arange(sorted_N3_f_5.size),label='f=0.5')\n",
    "plt.step(sorted_N3_f1, np.arange(sorted_N3_f1.size),label='f=1')\n",
    "\n",
    "plt.axis((0,60,0,350))\n",
    "plt.legend()\n",
    "\n",
    "plt.show()"
   ]
  },
  {
   "cell_type": "code",
   "execution_count": 3,
   "metadata": {
    "collapsed": true
   },
   "outputs": [],
   "source": [
    "name='/Users/adams/data/uchvcs/catalog/spring/spring_candidates.csv'\n",
    "spring_cands=alfalfa.get_cat(name)"
   ]
  },
  {
   "cell_type": "code",
   "execution_count": 4,
   "metadata": {},
   "outputs": [
    {
     "name": "stdout",
     "output_type": "stream",
     "text": [
      " AGC         HIname            RA      ...     hsize     flux  SN \n",
      "------ ----------------- ------------- ... ------------- ---- ----\n",
      "174540 HI074559.9+145850 116.501666667 ... 7.93725393319  2.2 29.1\n",
      "    -- HI074824.2+021738     117.10125 ... 11.1579568022 0.74  0.0\n",
      "174728 HI075149.4+064516       117.955 ...  4.7021271782 0.19  4.1\n",
      "174541 HI075437.8+143239 118.659583333 ... 7.18261790714 2.27 26.5\n",
      "    -- HI075522.6+025152       118.845 ... 5.90423576765 0.53  0.0\n",
      "188988 HI080238.1+052552      120.6575 ... 3.65102725271 0.41  0.0\n",
      "    -- HI080245.0+030115     120.68875 ... 9.29838695689 0.55  4.7\n",
      "    -- HI080312.3+264257 120.806666667 ... 12.6510869098 1.02  9.5\n",
      "    -- HI080750.9+021518      121.9625 ...  6.5574385243 0.33  5.1\n",
      "    -- HI081006.0+285826 122.531666667 ... 8.61162005664 0.83  9.3\n",
      "189029 HI081153.6+280111 122.977083333 ...  7.4296702484 1.55 17.6\n",
      "   ...               ...           ... ...           ...  ...  ...\n",
      "268242 HI162009.9+260439      245.0475 ...           3.0 0.25  4.8\n",
      "268242 HI162011.0+260500 245.052083333 ... 3.44673758792 0.27  4.7\n",
      "268213 HI162235.5+050851 245.646666667 ... 10.8083301208  2.9 21.8\n",
      "    -- HI162345.3+283358 245.945416667 ... 17.6507790196  1.9 10.4\n",
      "268074 HI162443.6+124424 246.180833333 ... 9.79387563736 1.28 12.6\n",
      "    -- HI162830.7+264202 247.133333333 ... 10.4880884817  0.5  5.8\n",
      "    -- HI162854.5+005634 247.227916667 ... 6.14247507117 0.29  4.2\n",
      "    -- HI163007.9+310839 247.539583333 ... 10.2220350224 1.19  9.9\n",
      "    -- HI163102.5+033317     247.76125 ... 6.11555394057 1.13 16.3\n",
      "268244 HI163806.8+273051 249.533333333 ... 6.36396103068  0.6  9.5\n",
      "    -- HI163830.4+253025     249.63375 ... 10.3266645147 1.58  0.0\n"
     ]
    }
   ],
   "source": [
    "print spring_cands"
   ]
  },
  {
   "cell_type": "code",
   "execution_count": null,
   "metadata": {
    "collapsed": true
   },
   "outputs": [],
   "source": [
    "tmp=4\n",
    "print tmp"
   ]
  },
  {
   "cell_type": "code",
   "execution_count": 15,
   "metadata": {},
   "outputs": [
    {
     "name": "stdout",
     "output_type": "stream",
     "text": [
      "-454.217788991 342.90791439\n",
      "3\n",
      "0.0\n"
     ]
    }
   ],
   "source": [
    "print min(code9s['vdev']),max(code9s['vdev'])\n",
    "print len(np.where(code9s['vdev'] == 0)[0])\n",
    "print min(abs(code9s['vdev']))"
   ]
  },
  {
   "cell_type": "code",
   "execution_count": null,
   "metadata": {
    "collapsed": true
   },
   "outputs": [],
   "source": []
  }
 ],
 "metadata": {
  "kernelspec": {
   "display_name": "Python [default]",
   "language": "python",
   "name": "python2"
  },
  "language_info": {
   "codemirror_mode": {
    "name": "ipython",
    "version": 2
   },
   "file_extension": ".py",
   "mimetype": "text/x-python",
   "name": "python",
   "nbconvert_exporter": "python",
   "pygments_lexer": "ipython2",
   "version": "2.7.12"
  }
 },
 "nbformat": 4,
 "nbformat_minor": 1
}
