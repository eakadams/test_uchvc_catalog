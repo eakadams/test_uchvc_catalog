{
 "cells": [
  {
   "cell_type": "markdown",
   "metadata": {},
   "source": [
    "This notebook is for testing and determining isolation criteria for UCHVCs\n",
    "\n",
    "\n",
    "I am returning on 9 July 2018 to start looking at this again"
   ]
  },
  {
   "cell_type": "code",
   "execution_count": 1,
   "metadata": {
    "collapsed": true
   },
   "outputs": [],
   "source": [
    "%matplotlib inline"
   ]
  },
  {
   "cell_type": "code",
   "execution_count": 2,
   "metadata": {
    "collapsed": true
   },
   "outputs": [],
   "source": [
    "import sys\n",
    "#from pprint import pprint as p\n",
    "#p(sys.path)\n",
    "\n",
    "#even though I have added my python directory to path and pythonpath, it's not showing up\n",
    "#so i'll add it here manually (and do this in all my future notebooks)\n",
    "sys.path.append('/Users/adams/python')"
   ]
  },
  {
   "cell_type": "code",
   "execution_count": 3,
   "metadata": {},
   "outputs": [
    {
     "name": "stderr",
     "output_type": "stream",
     "text": [
      "WARNING: AstropyDeprecationWarning: Config parameter 'name_resolve_timeout' in section [coordinates.name_resolve] of the file '/Users/adams/.astropy/config/astropy.cfg' is deprecated. Use 'remote_timeout' in section [utils.data] instead. [astropy.config.configuration]\n",
      "WARNING: AstropyDeprecationWarning: Config parameter 'remote_timeout' in section [utils.data] of the file '/Users/adams/.astropy/config/astropy.cfg' is given by more than one alias (astropy.utils.data.remote_timeout, coordinates.name_resolve.name_resolve_timeout). Using the first. [astropy.config.configuration]\n"
     ]
    }
   ],
   "source": [
    "import numpy as np\n",
    "import matplotlib.pyplot as plt\n",
    "from astropy.table import Table, Column\n",
    "from astropy.io import ascii\n",
    "from astropy import coordinates as coord\n",
    "from astropy import units as u\n",
    "import alfalfa\n",
    "import uchvcs"
   ]
  },
  {
   "cell_type": "code",
   "execution_count": 4,
   "metadata": {},
   "outputs": [
    {
     "name": "stdout",
     "output_type": "stream",
     "text": [
      "check got hiname\n",
      "check got ra,dec\n"
     ]
    },
    {
     "name": "stderr",
     "output_type": "stream",
     "text": [
      "WARNING: AstropyDeprecationWarning: Initializing frames using the ``unit`` argument is now deprecated. Use SkyCoord or pass Quantity instances to frames instead. [astropy.coordinates.baseframe]\n"
     ]
    },
    {
     "name": "stdout",
     "output_type": "stream",
     "text": [
      "check got l,b\n",
      "check got vels\n",
      "done with cands\n",
      "check got hiname\n",
      "check got ra,dec\n",
      "check got l,b\n"
     ]
    },
    {
     "name": "stderr",
     "output_type": "stream",
     "text": [
      "ERROR: KeyboardInterrupt [astropy.coordinates.baseframe]\n"
     ]
    },
    {
     "ename": "KeyboardInterrupt",
     "evalue": "",
     "output_type": "error",
     "traceback": [
      "\u001b[0;31m---------------------------------------------------------------------------\u001b[0m",
      "\u001b[0;31mKeyboardInterrupt\u001b[0m                         Traceback (most recent call last)",
      "\u001b[0;32m<ipython-input-4-077b83ce0d79>\u001b[0m in \u001b[0;36m<module>\u001b[0;34m()\u001b[0m\n\u001b[1;32m     21\u001b[0m which has caveats but includes code 9s (unlike official a100)\"\"\"\n\u001b[1;32m     22\u001b[0m \u001b[0;34m\u001b[0m\u001b[0m\n\u001b[0;32m---> 23\u001b[0;31m \u001b[0ma100\u001b[0m \u001b[0;34m=\u001b[0m \u001b[0malfalfa\u001b[0m\u001b[0;34m.\u001b[0m\u001b[0mget_cat\u001b[0m\u001b[0;34m(\u001b[0m\u001b[0;34m'/Users/adams/data/alfalfa/alfalfa.gridsa_160317.csv'\u001b[0m\u001b[0;34m)\u001b[0m\u001b[0;34m\u001b[0m\u001b[0m\n\u001b[0m\u001b[1;32m     24\u001b[0m \u001b[0mind9\u001b[0m \u001b[0;34m=\u001b[0m \u001b[0mnp\u001b[0m\u001b[0;34m.\u001b[0m\u001b[0mwhere\u001b[0m\u001b[0;34m(\u001b[0m \u001b[0ma100\u001b[0m\u001b[0;34m.\u001b[0m\u001b[0mcode\u001b[0m \u001b[0;34m==\u001b[0m \u001b[0;36m9\u001b[0m\u001b[0;34m)\u001b[0m\u001b[0;34m\u001b[0m\u001b[0m\n\u001b[1;32m     25\u001b[0m \u001b[0mcode9s\u001b[0m \u001b[0;34m=\u001b[0m \u001b[0ma100\u001b[0m\u001b[0;34m[\u001b[0m\u001b[0mind9\u001b[0m\u001b[0;34m]\u001b[0m\u001b[0;34m\u001b[0m\u001b[0m\n",
      "\u001b[0;32m/Users/adams/python/alfalfa.py\u001b[0m in \u001b[0;36mget_cat\u001b[0;34m(filename)\u001b[0m\n\u001b[1;32m    265\u001b[0m     \u001b[0ml\u001b[0m\u001b[0;34m,\u001b[0m\u001b[0mb\u001b[0m\u001b[0;34m=\u001b[0m\u001b[0mget_lb\u001b[0m\u001b[0;34m(\u001b[0m\u001b[0mfilename\u001b[0m\u001b[0;34m)\u001b[0m\u001b[0;34m\u001b[0m\u001b[0m\n\u001b[1;32m    266\u001b[0m     \u001b[0;32mprint\u001b[0m \u001b[0;34m'check got l,b'\u001b[0m\u001b[0;34m\u001b[0m\u001b[0m\n\u001b[0;32m--> 267\u001b[0;31m     \u001b[0mcz\u001b[0m\u001b[0;34m,\u001b[0m\u001b[0mvlsr\u001b[0m\u001b[0;34m,\u001b[0m\u001b[0mvgsr\u001b[0m\u001b[0;34m,\u001b[0m\u001b[0mvlg\u001b[0m\u001b[0;34m,\u001b[0m\u001b[0mvdev\u001b[0m \u001b[0;34m=\u001b[0m \u001b[0mget_vels\u001b[0m\u001b[0;34m(\u001b[0m\u001b[0mfilename\u001b[0m\u001b[0;34m)\u001b[0m\u001b[0;34m\u001b[0m\u001b[0m\n\u001b[0m\u001b[1;32m    268\u001b[0m     \u001b[0;32mprint\u001b[0m \u001b[0;34m'check got vels'\u001b[0m\u001b[0;34m\u001b[0m\u001b[0m\n\u001b[1;32m    269\u001b[0m     \u001b[0;31m#now pull out other columns want\u001b[0m\u001b[0;34m\u001b[0m\u001b[0;34m\u001b[0m\u001b[0m\n",
      "\u001b[0;32m/Users/adams/python/alfalfa.py\u001b[0m in \u001b[0;36mget_vels\u001b[0;34m(filename)\u001b[0m\n\u001b[1;32m     86\u001b[0m     \u001b[0mcz\u001b[0m\u001b[0;34m=\u001b[0m\u001b[0mget_cz\u001b[0m\u001b[0;34m(\u001b[0m\u001b[0mfilename\u001b[0m\u001b[0;34m)\u001b[0m\u001b[0;34m\u001b[0m\u001b[0m\n\u001b[1;32m     87\u001b[0m     \u001b[0mvlsr\u001b[0m \u001b[0;34m=\u001b[0m \u001b[0mget_vlsr\u001b[0m\u001b[0;34m(\u001b[0m\u001b[0mfilename\u001b[0m\u001b[0;34m)\u001b[0m\u001b[0;34m\u001b[0m\u001b[0m\n\u001b[0;32m---> 88\u001b[0;31m     \u001b[0mvdev\u001b[0m\u001b[0;34m=\u001b[0m\u001b[0mget_vdev\u001b[0m\u001b[0;34m(\u001b[0m\u001b[0mfilename\u001b[0m\u001b[0;34m)\u001b[0m\u001b[0;34m\u001b[0m\u001b[0m\n\u001b[0m\u001b[1;32m     89\u001b[0m     \u001b[0mvgsr\u001b[0m \u001b[0;34m=\u001b[0m \u001b[0mget_vgsr\u001b[0m\u001b[0;34m(\u001b[0m\u001b[0mfilename\u001b[0m\u001b[0;34m)\u001b[0m\u001b[0;34m\u001b[0m\u001b[0m\n\u001b[1;32m     90\u001b[0m     \u001b[0mvlg\u001b[0m \u001b[0;34m=\u001b[0m \u001b[0mget_vlg\u001b[0m\u001b[0;34m(\u001b[0m\u001b[0mfilename\u001b[0m\u001b[0;34m)\u001b[0m\u001b[0;34m\u001b[0m\u001b[0m\n",
      "\u001b[0;32m/Users/adams/python/alfalfa.py\u001b[0m in \u001b[0;36mget_vdev\u001b[0;34m(filename)\u001b[0m\n\u001b[1;32m    203\u001b[0m         \u001b[0mz2\u001b[0m\u001b[0;34m=\u001b[0m\u001b[0;36m3\u001b[0m\u001b[0;34m\u001b[0m\u001b[0m\n\u001b[1;32m    204\u001b[0m         \u001b[0;31m#do a calculation based on info in book by woerden (get details)\u001b[0m\u001b[0;34m\u001b[0m\u001b[0;34m\u001b[0m\u001b[0m\n\u001b[0;32m--> 205\u001b[0;31m         \u001b[0ml\u001b[0m\u001b[0;34m,\u001b[0m\u001b[0mb\u001b[0m\u001b[0;34m=\u001b[0m\u001b[0mget_lb\u001b[0m\u001b[0;34m(\u001b[0m\u001b[0mfilename\u001b[0m\u001b[0;34m)\u001b[0m\u001b[0;34m\u001b[0m\u001b[0m\n\u001b[0m\u001b[1;32m    206\u001b[0m         \u001b[0mvlsr\u001b[0m\u001b[0;34m=\u001b[0m\u001b[0mget_vlsr\u001b[0m\u001b[0;34m(\u001b[0m\u001b[0mfilename\u001b[0m\u001b[0;34m)\u001b[0m\u001b[0;34m\u001b[0m\u001b[0m\n\u001b[1;32m    207\u001b[0m         \u001b[0mvdev\u001b[0m\u001b[0;34m=\u001b[0m\u001b[0mnp\u001b[0m\u001b[0;34m.\u001b[0m\u001b[0mzeros\u001b[0m\u001b[0;34m(\u001b[0m\u001b[0mlen\u001b[0m\u001b[0;34m(\u001b[0m\u001b[0mvlsr\u001b[0m\u001b[0;34m)\u001b[0m\u001b[0;34m)\u001b[0m\u001b[0;34m\u001b[0m\u001b[0m\n",
      "\u001b[0;32m/Users/adams/python/alfalfa.py\u001b[0m in \u001b[0;36mget_lb\u001b[0;34m(filename)\u001b[0m\n\u001b[1;32m    134\u001b[0m         \u001b[0mb\u001b[0m\u001b[0;34m=\u001b[0m\u001b[0mnp\u001b[0m\u001b[0;34m.\u001b[0m\u001b[0mzeros\u001b[0m\u001b[0;34m(\u001b[0m\u001b[0mlen\u001b[0m\u001b[0;34m(\u001b[0m\u001b[0mra\u001b[0m\u001b[0;34m)\u001b[0m\u001b[0;34m)\u001b[0m\u001b[0;34m\u001b[0m\u001b[0m\n\u001b[1;32m    135\u001b[0m         \u001b[0;32mfor\u001b[0m \u001b[0mi\u001b[0m\u001b[0;34m,\u001b[0m\u001b[0;34m(\u001b[0m\u001b[0mr\u001b[0m\u001b[0;34m,\u001b[0m\u001b[0md\u001b[0m\u001b[0;34m)\u001b[0m \u001b[0;32min\u001b[0m \u001b[0menumerate\u001b[0m\u001b[0;34m(\u001b[0m\u001b[0mzip\u001b[0m\u001b[0;34m(\u001b[0m\u001b[0mra\u001b[0m\u001b[0;34m,\u001b[0m\u001b[0mdec\u001b[0m\u001b[0;34m)\u001b[0m\u001b[0;34m)\u001b[0m\u001b[0;34m:\u001b[0m\u001b[0;34m\u001b[0m\u001b[0m\n\u001b[0;32m--> 136\u001b[0;31m             \u001b[0mc\u001b[0m\u001b[0;34m=\u001b[0m\u001b[0mcoord\u001b[0m\u001b[0;34m.\u001b[0m\u001b[0mICRS\u001b[0m\u001b[0;34m(\u001b[0m\u001b[0mra\u001b[0m\u001b[0;34m=\u001b[0m\u001b[0mr\u001b[0m\u001b[0;34m,\u001b[0m \u001b[0mdec\u001b[0m\u001b[0;34m=\u001b[0m\u001b[0md\u001b[0m\u001b[0;34m,\u001b[0m \u001b[0munit\u001b[0m\u001b[0;34m=\u001b[0m\u001b[0;34m(\u001b[0m\u001b[0mu\u001b[0m\u001b[0;34m.\u001b[0m\u001b[0mdegree\u001b[0m\u001b[0;34m,\u001b[0m \u001b[0mu\u001b[0m\u001b[0;34m.\u001b[0m\u001b[0mdegree\u001b[0m\u001b[0;34m)\u001b[0m\u001b[0;34m)\u001b[0m\u001b[0;34m\u001b[0m\u001b[0m\n\u001b[0m\u001b[1;32m    137\u001b[0m             \u001b[0mgc\u001b[0m\u001b[0;34m=\u001b[0m\u001b[0mc\u001b[0m\u001b[0;34m.\u001b[0m\u001b[0mgalactic\u001b[0m\u001b[0;34m\u001b[0m\u001b[0m\n\u001b[1;32m    138\u001b[0m             \u001b[0ml\u001b[0m\u001b[0;34m[\u001b[0m\u001b[0mi\u001b[0m\u001b[0;34m]\u001b[0m\u001b[0;34m=\u001b[0m\u001b[0mgc\u001b[0m\u001b[0;34m.\u001b[0m\u001b[0ml\u001b[0m\u001b[0;34m.\u001b[0m\u001b[0mdeg\u001b[0m\u001b[0;34m\u001b[0m\u001b[0m\n",
      "\u001b[0;32m/Users/adams/anaconda/lib/python2.7/site-packages/astropy/coordinates/baseframe.pyc\u001b[0m in \u001b[0;36m__new__\u001b[0;34m(cls, *args, **kwargs)\u001b[0m\n\u001b[1;32m    505\u001b[0m             \u001b[0mkwargs\u001b[0m\u001b[0;34m[\u001b[0m\u001b[0;34m'frame'\u001b[0m\u001b[0;34m]\u001b[0m \u001b[0;34m=\u001b[0m \u001b[0mframe_name\u001b[0m\u001b[0;34m\u001b[0m\u001b[0m\n\u001b[1;32m    506\u001b[0m             \u001b[0;32mfrom\u001b[0m \u001b[0;34m.\u001b[0m\u001b[0msky_coordinate\u001b[0m \u001b[0;32mimport\u001b[0m \u001b[0mSkyCoord\u001b[0m\u001b[0;34m\u001b[0m\u001b[0m\n\u001b[0;32m--> 507\u001b[0;31m             \u001b[0;32mreturn\u001b[0m \u001b[0mSkyCoord\u001b[0m\u001b[0;34m(\u001b[0m\u001b[0;34m*\u001b[0m\u001b[0margs\u001b[0m\u001b[0;34m,\u001b[0m \u001b[0;34m**\u001b[0m\u001b[0mkwargs\u001b[0m\u001b[0;34m)\u001b[0m\u001b[0;34m\u001b[0m\u001b[0m\n\u001b[0m\u001b[1;32m    508\u001b[0m         \u001b[0;32melse\u001b[0m\u001b[0;34m:\u001b[0m\u001b[0;34m\u001b[0m\u001b[0m\n\u001b[1;32m    509\u001b[0m             \u001b[0;32mreturn\u001b[0m \u001b[0msuper\u001b[0m\u001b[0;34m(\u001b[0m\u001b[0mBaseCoordinateFrame\u001b[0m\u001b[0;34m,\u001b[0m \u001b[0mcls\u001b[0m\u001b[0;34m)\u001b[0m\u001b[0;34m.\u001b[0m\u001b[0m__new__\u001b[0m\u001b[0;34m(\u001b[0m\u001b[0mcls\u001b[0m\u001b[0;34m)\u001b[0m\u001b[0;34m\u001b[0m\u001b[0m\n",
      "\u001b[0;32m/Users/adams/anaconda/lib/python2.7/site-packages/astropy/coordinates/sky_coordinate.pyc\u001b[0m in \u001b[0;36m__init__\u001b[0;34m(self, *args, **kwargs)\u001b[0m\n\u001b[1;32m    192\u001b[0m \u001b[0;34m\u001b[0m\u001b[0m\n\u001b[1;32m    193\u001b[0m         \u001b[0;31m# Set internal versions of object state attributes\u001b[0m\u001b[0;34m\u001b[0m\u001b[0;34m\u001b[0m\u001b[0m\n\u001b[0;32m--> 194\u001b[0;31m         \u001b[0;32mfor\u001b[0m \u001b[0mattr\u001b[0m \u001b[0;32min\u001b[0m \u001b[0mFRAME_ATTR_NAMES_SET\u001b[0m\u001b[0;34m(\u001b[0m\u001b[0;34m)\u001b[0m\u001b[0;34m:\u001b[0m\u001b[0;34m\u001b[0m\u001b[0m\n\u001b[0m\u001b[1;32m    195\u001b[0m             \u001b[0msetattr\u001b[0m\u001b[0;34m(\u001b[0m\u001b[0mself\u001b[0m\u001b[0;34m,\u001b[0m \u001b[0;34m'_'\u001b[0m \u001b[0;34m+\u001b[0m \u001b[0mattr\u001b[0m\u001b[0;34m,\u001b[0m \u001b[0mkwargs\u001b[0m\u001b[0;34m[\u001b[0m\u001b[0mattr\u001b[0m\u001b[0;34m]\u001b[0m\u001b[0;34m)\u001b[0m\u001b[0;34m\u001b[0m\u001b[0m\n\u001b[1;32m    196\u001b[0m \u001b[0;34m\u001b[0m\u001b[0m\n",
      "\u001b[0;32m/Users/adams/anaconda/lib/python2.7/site-packages/astropy/coordinates/sky_coordinate.pyc\u001b[0m in \u001b[0;36mFRAME_ATTR_NAMES_SET\u001b[0;34m()\u001b[0m\n\u001b[1;32m     38\u001b[0m     \u001b[0mout\u001b[0m \u001b[0;34m=\u001b[0m \u001b[0mset\u001b[0m\u001b[0;34m(\u001b[0m\u001b[0;34m)\u001b[0m\u001b[0;34m\u001b[0m\u001b[0m\n\u001b[1;32m     39\u001b[0m     \u001b[0;32mfor\u001b[0m \u001b[0mframe_cls\u001b[0m \u001b[0;32min\u001b[0m \u001b[0mframe_transform_graph\u001b[0m\u001b[0;34m.\u001b[0m\u001b[0mframe_set\u001b[0m\u001b[0;34m:\u001b[0m\u001b[0;34m\u001b[0m\u001b[0m\n\u001b[0;32m---> 40\u001b[0;31m         \u001b[0;32mfor\u001b[0m \u001b[0mattr\u001b[0m \u001b[0;32min\u001b[0m \u001b[0mframe_cls\u001b[0m\u001b[0;34m.\u001b[0m\u001b[0mget_frame_attr_names\u001b[0m\u001b[0;34m(\u001b[0m\u001b[0;34m)\u001b[0m\u001b[0;34m.\u001b[0m\u001b[0mkeys\u001b[0m\u001b[0;34m(\u001b[0m\u001b[0;34m)\u001b[0m\u001b[0;34m:\u001b[0m\u001b[0;34m\u001b[0m\u001b[0m\n\u001b[0m\u001b[1;32m     41\u001b[0m             \u001b[0mout\u001b[0m\u001b[0;34m.\u001b[0m\u001b[0madd\u001b[0m\u001b[0;34m(\u001b[0m\u001b[0mattr\u001b[0m\u001b[0;34m)\u001b[0m\u001b[0;34m\u001b[0m\u001b[0m\n\u001b[1;32m     42\u001b[0m     \u001b[0;32mreturn\u001b[0m \u001b[0mout\u001b[0m\u001b[0;34m\u001b[0m\u001b[0m\n",
      "\u001b[0;32m/Users/adams/anaconda/lib/python2.7/site-packages/astropy/coordinates/baseframe.pyc\u001b[0m in \u001b[0;36mget_frame_attr_names\u001b[0;34m(cls)\u001b[0m\n\u001b[1;32m    621\u001b[0m     \u001b[0;32mdef\u001b[0m \u001b[0mget_frame_attr_names\u001b[0m\u001b[0;34m(\u001b[0m\u001b[0mcls\u001b[0m\u001b[0;34m)\u001b[0m\u001b[0;34m:\u001b[0m\u001b[0;34m\u001b[0m\u001b[0m\n\u001b[1;32m    622\u001b[0m         return OrderedDict((name, getattr(cls, name))\n\u001b[0;32m--> 623\u001b[0;31m                            for name in cls.frame_attributes)\n\u001b[0m\u001b[1;32m    624\u001b[0m \u001b[0;34m\u001b[0m\u001b[0m\n\u001b[1;32m    625\u001b[0m     \u001b[0;34m@\u001b[0m\u001b[0mproperty\u001b[0m\u001b[0;34m\u001b[0m\u001b[0m\n",
      "\u001b[0;31mKeyboardInterrupt\u001b[0m: "
     ]
    }
   ],
   "source": [
    "#get candidates catalog\n",
    "name='/Users/adams/data/uchvcs/catalog/spring/spring_candidates.csv'\n",
    "spring_cands=alfalfa.get_cat(name)\n",
    "\n",
    "print 'done with cands'\n",
    "\n",
    "#and code9s for comparison:\n",
    "\"\"\"In July 2018, I got the most recent 100% a grids catalog from egg.astro.cornell.edu\n",
    "I create a code 9s text file, so that I don't have to read the full catalog every time\n",
    "There are many more 1s and 2s than 9s, I think\n",
    "I did this in notebook get_code9s\"\"\"\n",
    "\n",
    "code9s=ascii.read('/Users/adams/data/uchvcs/catalog/code9s_cat.txt')\n",
    "\n",
    "\n",
    "print 'done with code 9s'"
   ]
  },
  {
   "cell_type": "code",
   "execution_count": null,
   "metadata": {},
   "outputs": [],
   "source": [
    "print code9s.colnames"
   ]
  },
  {
   "cell_type": "code",
   "execution_count": null,
   "metadata": {
    "collapsed": true
   },
   "outputs": [],
   "source": [
    "#also want to get just spring code9s for comparison purposes\n",
    "#ind1 = np.where( code9s['RA']<270 )\n",
    "#ind2=np.where(code9s['RA']> 60)\n",
    "ind=np.where((code9s['RA']<270) & (code9s['RA']> 60) )\n",
    "spring_code9s = code9s[ind]"
   ]
  },
  {
   "cell_type": "code",
   "execution_count": 5,
   "metadata": {},
   "outputs": [
    {
     "name": "stdout",
     "output_type": "stream",
     "text": [
      "['Count', 'L', 'B', 'RA', 'dec', 'Vlsr', 'Vgsr', 'Vlgsr', 'Vdev', 'Vz', 'Tmax', 'N', 'Omega', 'Flux', 'err', 'ass', 'cpx', 'pop']\n"
     ]
    }
   ],
   "source": [
    "name='/Users/adams/data/uchvcs/catalog/spring/wvw_hvc_cat_edited.txt'\n",
    "tmp=ascii.read('/Users/adams/data/uchvcs/catalog/spring/wvw_hvc_cat_edited.txt')\n",
    "print tmp.colnames\n",
    "gl=tmp['L']\n",
    "gb=tmp['B']\n",
    "c=coord.Galactic(l=gl,b=gb,unit=(u.degree,u.degree))\n",
    "crd = c.transform_to(coord.ICRS)\n",
    "r=crd.ra.degree\n",
    "d=crd.dec.degree\n",
    "\n",
    "hiname=alfalfa.get_hiname(name)\n",
    "ra,dec=alfalfa.get_radec(name)\n",
    "l,b=alfalfa.get_lb(name)\n",
    "cz,vlsr,vgsr,vlg,vdev=alfalfa.get_vels(name)"
   ]
  },
  {
   "cell_type": "code",
   "execution_count": 27,
   "metadata": {},
   "outputs": [
    {
     "name": "stdout",
     "output_type": "stream",
     "text": [
      "check got hiname\n",
      "check got ra,dec\n",
      "check got l,b\n",
      "check got vels\n",
      "check got hiname\n",
      "check got ra,dec\n",
      "check got l,b\n",
      "check got vels\n",
      "       AGC               HIname       ...        flux                 SN        \n",
      "------------------ ------------------ ... ------------------ -------------------\n",
      "-1.72723371102e-77 -1.72723371102e-77 ... -1.72723371102e-77  -1.72723371102e-77\n",
      "2.68156175316e+154 -1.72723371102e-77 ... -1.72723371102e-77 -1.49166823821e-154\n",
      "    -139.185592329 2.21547423051e-314 ...                nan                 nan\n",
      "     113.759167272 2.21547982531e-314 ...             -116.5  2.20454093524e-314\n",
      "    -38.9363631247 2.21547990436e-314 ...                0.0                 0.0\n",
      "     150.704924524 2.21547994389e-314 ... 2.13498819968e-314   2.1228791171e-314\n",
      "     52.9649706959 2.21547998341e-314 ...                0.0  1.97626258336e-323\n",
      "    -51.9378831501 2.21548002294e-314 ...                0.0  1.97626258336e-323\n",
      "     21.3884850865 2.21548006246e-314 ... 3.45845952089e-323  3.45845952089e-323\n",
      "    -30.0738471738 2.21548010199e-314 ... 2.19490737055e-314  2.19485318933e-314\n",
      "     244.807020507 2.21552323985e-314 ... 2.12217913675e-314  2.12217913675e-314\n",
      "               ...                ... ...                ...                 ...\n",
      "     128.181640094 2.21552383273e-314 ...              -57.0                 0.0\n",
      "     113.385752333 2.21552387225e-314 ...              -87.0                 0.0\n",
      "      243.53375965 2.21552391178e-314 ...             -183.3                 0.0\n",
      "    -135.568099707 2.21542899584e-314 ...               38.1                 0.0\n",
      "     110.426081721 2.21542903536e-314 ...             -130.0                 0.0\n",
      "    -63.6631212492 2.21542907489e-314 ...               22.3                 0.0\n",
      "     288.182713341 2.21542911441e-314 ...             -332.1                 0.0\n",
      "     158.351546812 2.21542915394e-314 ...             -140.7                 0.0\n",
      "    -117.068595406 2.21542919346e-314 ...              194.0                 0.0\n",
      "     106.481803175 2.21542923299e-314 ...              -78.5                 0.0\n",
      "     57.6571682418 2.21542927251e-314 ...              -29.1                 0.0\n",
      "check got hiname\n",
      "check got ra,dec\n",
      "check got l,b\n",
      "check got vels\n"
     ]
    }
   ],
   "source": [
    "#also want WvW catalog\n",
    "wvw=alfalfa.get_cat('/Users/adams/data/uchvcs/catalog/spring/wvw_hvc_cat_edited.txt')\n",
    "#and all LG gals\n",
    "#print wvw\n",
    "#plus LG gals in ALFALFA footprint\n",
    "lg=alfalfa.get_cat('/Users/adams/data/uchvcs/catalog/local_gals_positions_nov12.txt')\n",
    "print lg\n",
    "\n",
    "#get spring only local also:\n",
    "lg_spring=alfalfa.get_cat('/Users/adams/data/uchvcs/catalog/local_gals_spring_positions_nov12.txt')"
   ]
  },
  {
   "cell_type": "markdown",
   "metadata": {},
   "source": []
  },
  {
   "cell_type": "code",
   "execution_count": 6,
   "metadata": {
    "collapsed": true
   },
   "outputs": [],
   "source": []
  },
  {
   "cell_type": "code",
   "execution_count": 45,
   "metadata": {
    "collapsed": true
   },
   "outputs": [
    {
     "name": "stdout",
     "output_type": "stream",
     "text": [
      "       AGC               HIname       ...         SN              WvW     \n",
      "------------------ ------------------ ... ------------------ -------------\n",
      "-1.72723371102e-77 -1.72723371102e-77 ... -1.72723371102e-77 42.5164740474\n",
      "2.68156175181e+154 -1.72723381839e-77 ... -2.6815617518e+154 28.3538523982\n",
      "2.96439387505e-323 2.21291626788e-314 ...     0.111004847399 29.1585738292\n",
      "               0.0  1.28501997096e-05 ...     0.252238656195 25.1476807142\n",
      "     69.6240234375 2.21291096854e-314 ...     0.347330687835  38.286607322\n",
      " 1.15998411999e-28 2.21291097249e-314 ...     0.798036785013 19.1141316563\n",
      "1.99270016953e+209 2.18057566844e-314 ...     0.537364354603 48.1220519891\n",
      "1.44499267528e+214 2.21542499193e-314 ...     0.126700150186 33.7628150755\n",
      "3.80985006741e+180                1.0 ...     0.520671155277 45.2060538498\n",
      "4.71357970852e+257                0.0 ...     0.176260301403  19.796260463\n",
      "     67.2312089178 -1.72723381839e-77 ...     0.386070644982 18.8811561981\n",
      "9.11746622491e-309 8.34402835247e-309 ... 9.58934224131e-309 63.9453474998\n"
     ]
    }
   ],
   "source": [
    "#now I want to check isolation from WvW catalog - here is where I will have strictest criterion.\n",
    "#Will look only at spring sky\n",
    "#i would like to be able to add a column to spring_cands that contains the distance to nearest WvW cloud using f=0.5 ()\n",
    "#note that this is just using add_col_neigh_dist with Nth=1 (default, takes closets objects)\n",
    "#print spring_cands\n",
    "\n",
    "spring_cands_wvw = alfalfa.add_col_neigh_dist(spring_cands,wvw,name='WvW')\n",
    "\n",
    "#print spring_cands_wvw\n",
    "\n",
    "lg_wvw = alfalfa.add_col_neigh_dist(lg,wvw,name='WvW')\n",
    "\n",
    "lg_spring_wvw = alfalfa.add_col_neigh_dist(lg_spring,wvw,name='WvW')\n",
    "\n",
    "#get same for WvW catalog - want to know the typical linking scale there\n",
    "\n",
    "wvw_dist = alfalfa.add_col_neigh_dist(wvw,wvw,Nth=2,name='dist_wvw')\n",
    "\n",
    "print lg_spring_wvw\n",
    "\n",
    "codes9s = alfalfa.add_col_neigh_dist(code9s,wvw,name='WvW')\n",
    "\n",
    "spring_code9s=alfalfa.add_col_neigh_dist(spring_code9s,wvw,name='WvW')\n",
    "\n",
    "#print lg_wvw"
   ]
  },
  {
   "cell_type": "code",
   "execution_count": 46,
   "metadata": {},
   "outputs": [
    {
     "data": {
      "text/plain": [
       "[<matplotlib.lines.Line2D at 0x10ae24f50>]"
      ]
     },
     "execution_count": 46,
     "metadata": {},
     "output_type": "execute_result"
    },
    {
     "data": {
      "image/png": "[encoded data removed]",
      "text/plain": [
       "<matplotlib.figure.Figure at 0x101c9e0d0>"
      ]
     },
     "metadata": {},
     "output_type": "display_data"
    }
   ],
   "source": [
    "#sweet\n",
    "#now I want to plot the distance to nearest WvW neighbor for these different pops\n",
    "#will also want to separate spring sky LG gals\n",
    "#want to do this as cumulative distribution function - is there an easy way to do this in matplotlib?\n",
    "values_wvw, bins = np.histogram(wvw_dist['dist_wvw'], bins=100,range=(0,50))\n",
    "n_wvw= float(len(wvw_dist['dist_wvw']))\n",
    "cum_wvw = np.cumsum(values_wvw)\n",
    "\n",
    "values_gals, bins = np.histogram(lg_wvw['WvW'], bins=100,range=(0,50))\n",
    "cum_gals = np.cumsum(values_gals)/float(len(lg_wvw))\n",
    "\n",
    "values_cands,bins = np.histogram(spring_cands_wvw['WvW'], bins=100,range=(0,50))\n",
    "cum_cands = np.cumsum(values_cands)/float(len(spring_cands_wvw))\n",
    "\n",
    "#get spring gals only:\n",
    "values_spring_gals, bins = np.histogram(lg_spring_wvw['WvW'], bins=100,range=(0,50))\n",
    "cum_spring_gals = np.cumsum(values_spring_gals)/float(len(lg_spring_wvw))\n",
    "            \n",
    "values_code9s,bins = np.histogram(code9s['WvW'], bins=100,range=(0,50))\n",
    "cum_code9s = np.cumsum(values_code9s)/float(len(code9s))\n",
    "\n",
    "\n",
    "values_spring_code9s,bins = np.histogram(spring_code9s['WvW'], bins=100,range=(0,50))\n",
    "cum_spring_code9s = np.cumsum(values_spring_code9s)/float(len(spring_code9s))\n",
    "    \n",
    "# plot the cumulative function\n",
    "plt.plot(bins[:-1], cum_wvw/n_wvw, c='blue')\n",
    "plt.plot(bins[:-1],cum_gals,'r:')\n",
    "plt.plot(bins[:-1],cum_spring_gals,'r')\n",
    "\n",
    "plt.plot(bins[:-1],cum_cands,c='magenta')\n",
    "\n",
    "plt.plot(bins[:-1],cum_code9s,'g:')\n",
    "plt.plot(bins[:-1],cum_spring_code9s,'g')\n",
    "\n",
    "plt.plot([25,25],[0,1],'k')\n",
    "plt.plot([18,18],[0,1],'k')\n",
    "\n"
   ]
  },
  {
   "cell_type": "code",
   "execution_count": 6,
   "metadata": {},
   "outputs": [
    {
     "name": "stdout",
     "output_type": "stream",
     "text": [
      "\u001b[0;31mERROR\u001b[0m: NameError: name 'cands' is not defined [IPython.core.interactiveshell]\n"
     ]
    },
    {
     "ename": "NameError",
     "evalue": "name 'cands' is not defined",
     "output_type": "error",
     "traceback": [
      "\u001b[0;31m---------------------------------------------------------------------------\u001b[0m\n\u001b[0;31mNameError\u001b[0m                                 Traceback (most recent call last)",
      "\u001b[0;32m<ipython-input-6-3b03a2b34a6c>\u001b[0m in \u001b[0;36m<module>\u001b[0;34m()\u001b[0m\n\u001b[1;32m      2\u001b[0m \u001b[0mn\u001b[0m\u001b[0;34m=\u001b[0m\u001b[0;34m[\u001b[0m\u001b[0;36m1\u001b[0m\u001b[0;34m,\u001b[0m\u001b[0;36m3\u001b[0m\u001b[0;34m,\u001b[0m\u001b[0;36m5\u001b[0m\u001b[0;34m,\u001b[0m\u001b[0;36m7\u001b[0m\u001b[0;34m,\u001b[0m\u001b[0;36m11\u001b[0m\u001b[0;34m,\u001b[0m\u001b[0;36m1\u001b[0m\u001b[0;34m,\u001b[0m\u001b[0;36m3\u001b[0m\u001b[0;34m,\u001b[0m\u001b[0;36m5\u001b[0m\u001b[0;34m,\u001b[0m\u001b[0;36m7\u001b[0m\u001b[0;34m,\u001b[0m\u001b[0;36m11\u001b[0m\u001b[0;34m,\u001b[0m\u001b[0;36m1\u001b[0m\u001b[0;34m,\u001b[0m\u001b[0;36m3\u001b[0m\u001b[0;34m,\u001b[0m\u001b[0;36m5\u001b[0m\u001b[0;34m,\u001b[0m\u001b[0;36m7\u001b[0m\u001b[0;34m,\u001b[0m\u001b[0;36m11\u001b[0m\u001b[0;34m,\u001b[0m\u001b[0;36m1\u001b[0m\u001b[0;34m,\u001b[0m\u001b[0;36m3\u001b[0m\u001b[0;34m,\u001b[0m\u001b[0;36m5\u001b[0m\u001b[0;34m,\u001b[0m\u001b[0;36m7\u001b[0m\u001b[0;34m,\u001b[0m\u001b[0;36m11\u001b[0m\u001b[0;34m]\u001b[0m\u001b[0;34m\u001b[0m\u001b[0m\n\u001b[1;32m      3\u001b[0m \u001b[0mf\u001b[0m\u001b[0;34m=\u001b[0m\u001b[0;34m[\u001b[0m\u001b[0;36m0.2\u001b[0m\u001b[0;34m,\u001b[0m\u001b[0;36m0.2\u001b[0m\u001b[0;34m,\u001b[0m\u001b[0;36m0.2\u001b[0m\u001b[0;34m,\u001b[0m\u001b[0;36m0.2\u001b[0m\u001b[0;34m,\u001b[0m\u001b[0;36m0.2\u001b[0m\u001b[0;34m,\u001b[0m\u001b[0;36m0.5\u001b[0m\u001b[0;34m,\u001b[0m\u001b[0;36m0.5\u001b[0m\u001b[0;34m,\u001b[0m\u001b[0;36m0.5\u001b[0m\u001b[0;34m,\u001b[0m\u001b[0;36m0.5\u001b[0m\u001b[0;34m,\u001b[0m\u001b[0;36m0.5\u001b[0m\u001b[0;34m,\u001b[0m\u001b[0;36m0.1\u001b[0m\u001b[0;34m,\u001b[0m\u001b[0;36m0.1\u001b[0m\u001b[0;34m,\u001b[0m\u001b[0;36m0.1\u001b[0m\u001b[0;34m,\u001b[0m\u001b[0;36m0.1\u001b[0m\u001b[0;34m,\u001b[0m\u001b[0;36m0.1\u001b[0m\u001b[0;34m,\u001b[0m\u001b[0;36m1\u001b[0m\u001b[0;34m,\u001b[0m\u001b[0;36m1\u001b[0m\u001b[0;34m,\u001b[0m\u001b[0;36m1\u001b[0m\u001b[0;34m,\u001b[0m\u001b[0;36m1\u001b[0m\u001b[0;34m,\u001b[0m\u001b[0;36m1\u001b[0m\u001b[0;34m]\u001b[0m\u001b[0;34m\u001b[0m\u001b[0m\n\u001b[0;32m----> 4\u001b[0;31m \u001b[0mdist_cands\u001b[0m\u001b[0;34m=\u001b[0m\u001b[0malfalfa\u001b[0m\u001b[0;34m.\u001b[0m\u001b[0madd_col_neigh_dist\u001b[0m\u001b[0;34m(\u001b[0m\u001b[0mcands\u001b[0m\u001b[0;34m,\u001b[0m\u001b[0mcode9s\u001b[0m\u001b[0;34m,\u001b[0m\u001b[0mNth\u001b[0m\u001b[0;34m=\u001b[0m\u001b[0mn\u001b[0m\u001b[0;34m,\u001b[0m\u001b[0mfv\u001b[0m\u001b[0;34m=\u001b[0m\u001b[0mf\u001b[0m\u001b[0;34m)\u001b[0m\u001b[0;34m\u001b[0m\u001b[0m\n\u001b[0m",
      "\u001b[0;31mNameError\u001b[0m: name 'cands' is not defined"
     ]
    }
   ],
   "source": [
    "#now do a bunch of distance calcs all at once\n",
    "n=[1,3,5,7,11,1,3,5,7,11,1,3,5,7,11,1,3,5,7,11]\n",
    "f=[0.2,0.2,0.2,0.2,0.2,0.5,0.5,0.5,0.5,0.5,0.1,0.1,0.1,0.1,0.1,1,1,1,1,1]\n",
    "dist_cands=alfalfa.add_col_neigh_dist(cands,code9s,Nth=n,fv=f)\n"
   ]
  },
  {
   "cell_type": "code",
   "execution_count": null,
   "metadata": {
    "collapsed": true
   },
   "outputs": [],
   "source": [
    "#now let's make some plots!\n",
    "#plot cdf for different dist values\n",
    "\n",
    "#values, base = np.histogram(data, bins=40)\n",
    "#evaluate the cumulative\n",
    "#cumulative = np.cumsum(values)\n",
    "# plot the cumulative function\n",
    "#plt.plot(base[:-1], cumulative, c='blue')\n",
    "\n",
    "sorted_N3_f_2=np.sort(distcat['N3_f0.2'])\n",
    "sorted_N3_f_1=np.sort(distcat['N3_f0.1'])\n",
    "sorted_N3_f_5=np.sort(distcat['N3_f0.5'])\n",
    "sorted_N3_f1=np.sort(distcat['N3_f1'])\n",
    "\n",
    "# Cumulative distributions:\n",
    "plt.step(sorted_N3_f_2, np.arange(sorted_N3_f_2.size),label='f=0.2')  # From 0 to the number of data points-1\n",
    "#plt.step(sorted_data[::-1], np.arange(sorted_data.size))  # From the number of data points-1 to 0\n",
    "plt.step(sorted_N3_f_1, np.arange(sorted_N3_f_1.size),label='f=0.1')\n",
    "plt.step(sorted_N3_f_5, np.arange(sorted_N3_f_5.size),label='f=0.5')\n",
    "plt.step(sorted_N3_f1, np.arange(sorted_N3_f1.size),label='f=1')\n",
    "\n",
    "plt.axis((0,60,0,350))\n",
    "plt.legend()\n",
    "\n",
    "plt.show()"
   ]
  },
  {
   "cell_type": "code",
   "execution_count": 3,
   "metadata": {
    "collapsed": true
   },
   "outputs": [],
   "source": [
    "name='/Users/adams/data/uchvcs/catalog/spring/spring_candidates.csv'\n",
    "spring_cands=alfalfa.get_cat(name)"
   ]
  },
  {
   "cell_type": "code",
   "execution_count": 4,
   "metadata": {},
   "outputs": [
    {
     "name": "stdout",
     "output_type": "stream",
     "text": [
      " AGC         HIname            RA      ...     hsize     flux  SN \n",
      "------ ----------------- ------------- ... ------------- ---- ----\n",
      "174540 HI074559.9+145850 116.501666667 ... 7.93725393319  2.2 29.1\n",
      "    -- HI074824.2+021738     117.10125 ... 11.1579568022 0.74  0.0\n",
      "174728 HI075149.4+064516       117.955 ...  4.7021271782 0.19  4.1\n",
      "174541 HI075437.8+143239 118.659583333 ... 7.18261790714 2.27 26.5\n",
      "    -- HI075522.6+025152       118.845 ... 5.90423576765 0.53  0.0\n",
      "188988 HI080238.1+052552      120.6575 ... 3.65102725271 0.41  0.0\n",
      "    -- HI080245.0+030115     120.68875 ... 9.29838695689 0.55  4.7\n",
      "    -- HI080312.3+264257 120.806666667 ... 12.6510869098 1.02  9.5\n",
      "    -- HI080750.9+021518      121.9625 ...  6.5574385243 0.33  5.1\n",
      "    -- HI081006.0+285826 122.531666667 ... 8.61162005664 0.83  9.3\n",
      "189029 HI081153.6+280111 122.977083333 ...  7.4296702484 1.55 17.6\n",
      "   ...               ...           ... ...           ...  ...  ...\n",
      "268242 HI162009.9+260439      245.0475 ...           3.0 0.25  4.8\n",
      "268242 HI162011.0+260500 245.052083333 ... 3.44673758792 0.27  4.7\n",
      "268213 HI162235.5+050851 245.646666667 ... 10.8083301208  2.9 21.8\n",
      "    -- HI162345.3+283358 245.945416667 ... 17.6507790196  1.9 10.4\n",
      "268074 HI162443.6+124424 246.180833333 ... 9.79387563736 1.28 12.6\n",
      "    -- HI162830.7+264202 247.133333333 ... 10.4880884817  0.5  5.8\n",
      "    -- HI162854.5+005634 247.227916667 ... 6.14247507117 0.29  4.2\n",
      "    -- HI163007.9+310839 247.539583333 ... 10.2220350224 1.19  9.9\n",
      "    -- HI163102.5+033317     247.76125 ... 6.11555394057 1.13 16.3\n",
      "268244 HI163806.8+273051 249.533333333 ... 6.36396103068  0.6  9.5\n",
      "    -- HI163830.4+253025     249.63375 ... 10.3266645147 1.58  0.0\n"
     ]
    }
   ],
   "source": [
    "print spring_cands"
   ]
  },
  {
   "cell_type": "code",
   "execution_count": null,
   "metadata": {
    "collapsed": true
   },
   "outputs": [],
   "source": [
    "tmp=4\n",
    "print tmp"
   ]
  },
  {
   "cell_type": "code",
   "execution_count": 15,
   "metadata": {},
   "outputs": [
    {
     "name": "stdout",
     "output_type": "stream",
     "text": [
      "-454.217788991 342.90791439\n",
      "3\n",
      "0.0\n"
     ]
    }
   ],
   "source": [
    "print min(code9s['vdev']),max(code9s['vdev'])\n",
    "print len(np.where(code9s['vdev'] == 0)[0])\n",
    "print min(abs(code9s['vdev']))"
   ]
  },
  {
   "cell_type": "code",
   "execution_count": null,
   "metadata": {
    "collapsed": true
   },
   "outputs": [],
   "source": []
  }
 ],
 "metadata": {
  "kernelspec": {
   "display_name": "Python [default]",
   "language": "python",
   "name": "python2"
  },
  "language_info": {
   "codemirror_mode": {
    "name": "ipython",
    "version": 2
   },
   "file_extension": ".py",
   "mimetype": "text/x-python",
   "name": "python",
   "nbconvert_exporter": "python",
   "pygments_lexer": "ipython2",
   "version": "2.7.12"
  }
 },
 "nbformat": 4,
 "nbformat_minor": 1
}
