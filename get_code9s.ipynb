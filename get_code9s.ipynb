{
 "cells": [
  {
   "cell_type": "markdown",
   "metadata": {},
   "source": [
    "Want a single way to get code9s and write out (for reading back in) since reading the full ALFALFA catalog (even only a grids!) takes quite a while (it also includes 3s, 4s, etc.)\n",
    "\n",
    "Updata 17 July 2018 to use the most recent version of the 100% a grids catalog available at egg.astro.cornell.edu. This is only 1,2,9s, but I know it's the 100% sky coverage"
   ]
  },
  {
   "cell_type": "code",
   "execution_count": 1,
   "metadata": {},
   "outputs": [
    {
     "name": "stdout",
     "output_type": "stream",
     "text": [
      "Populating the interactive namespace from numpy and matplotlib\n"
     ]
    },
    {
     "name": "stderr",
     "output_type": "stream",
     "text": [
      "WARNING: AstropyDeprecationWarning: Config parameter 'name_resolve_timeout' in section [coordinates.name_resolve] of the file '/Users/adams/.astropy/config/astropy.cfg' is deprecated. Use 'remote_timeout' in section [utils.data] instead. [astropy.config.configuration]\n",
      "WARNING: AstropyDeprecationWarning: Config parameter 'remote_timeout' in section [utils.data] of the file '/Users/adams/.astropy/config/astropy.cfg' is given by more than one alias (astropy.utils.data.remote_timeout, coordinates.name_resolve.name_resolve_timeout). Using the first. [astropy.config.configuration]\n"
     ]
    }
   ],
   "source": [
    "%pylab inline\n",
    "import sys\n",
    "sys.path.append('/Users/adams/python')\n",
    "import numpy as np\n",
    "import matplotlib.pyplot as plt\n",
    "from astropy.table import Table, Column\n",
    "from astropy.io import ascii\n",
    "from astropy import coordinates as coord\n",
    "from astropy import units as u\n",
    "import alfalfa\n",
    "import uchvcs"
   ]
  },
  {
   "cell_type": "code",
   "execution_count": null,
   "metadata": {},
   "outputs": [
    {
     "name": "stdout",
     "output_type": "stream",
     "text": [
      "check got hiname\n",
      "check got ra,dec\n"
     ]
    },
    {
     "name": "stderr",
     "output_type": "stream",
     "text": [
      "WARNING: AstropyDeprecationWarning: Initializing frames using the ``unit`` argument is now deprecated. Use SkyCoord or pass Quantity instances to frames instead. [astropy.coordinates.baseframe]\n"
     ]
    },
    {
     "name": "stdout",
     "output_type": "stream",
     "text": [
      "check got l,b\n"
     ]
    }
   ],
   "source": [
    "#agrids =alfalfa.get_cat('/Users/adams/data/uchvcs/catalog/gridsa.full.csv')\n",
    "agrids =alfalfa.get_cat('/Users/adams/data/alfalfa/alfalfa.gridsa_160317.csv')\n",
    "ind9 = np.where(agrids['code'] == 9)\n",
    "code9s = agrids[ind9]\n",
    "print code9s.colnames"
   ]
  },
  {
   "cell_type": "code",
   "execution_count": null,
   "metadata": {
    "collapsed": true
   },
   "outputs": [],
   "source": [
    "#and write this out to a text file\n",
    "ascii.write(code9s, '/Users/adams/data/uchvcs/catalog/code9s_cat.txt')"
   ]
  },
  {
   "cell_type": "code",
   "execution_count": null,
   "metadata": {
    "collapsed": true
   },
   "outputs": [],
   "source": [
    "#and check that I can read it back in\n",
    "test = ascii.read('/Users/adams/data/uchvcs/catalog/code9s_cat.txt')\n"
   ]
  },
  {
   "cell_type": "code",
   "execution_count": null,
   "metadata": {
    "collapsed": true
   },
   "outputs": [],
   "source": [
    "print test"
   ]
  },
  {
   "cell_type": "code",
   "execution_count": 9,
   "metadata": {},
   "outputs": [
    {
     "name": "stdout",
     "output_type": "stream",
     "text": [
      " AGC         HIname           RA          Dec     ... hsize flux  SN  code\n",
      "------ ----------------- ------------ ----------- ... ----- ---- ---- ----\n",
      "311337 HI214523.6+202047 326.35501099 20.34861183 ...   3.1 0.89 14.5    9\n",
      "311338 HI214625.5+202920 326.61331177 20.49138832 ...   3.4 1.23 17.0    9\n",
      "311339 HI214950.0+121652 327.45751953 12.27777767 ...   9.5 2.94 30.2    9\n",
      "310861 HI215056.2+275247 327.73876953 27.87916756 ...  10.9 2.17 34.5    9\n",
      "310862 HI215108.9+283828 327.79208374 28.64055634 ...  14.1 5.99 60.9    9\n",
      "310863 HI215115.2+280349 327.81832886 28.06333351 ...  19.7 2.45 21.1    9\n",
      "310864 HI215144.6+275211 327.94042969 27.86944389 ...   7.9 1.55 28.2    9\n",
      "311340 HI215157.8+202430 327.99749756 20.41083336 ...   2.8 0.69 12.5    9\n",
      "311194 HI215210.3+065053 328.04165649  6.84777784 ...  10.9 5.39 45.1    9\n",
      "311341 HI215327.7+115232 328.36502075 11.87250042 ...   6.7 0.87 11.3    9\n",
      "311146 HI215340.8+020244 328.42001343  2.04555559 ...   7.3 4.75 42.4    9\n",
      "   ...               ...          ...         ... ...   ...  ...  ...  ...\n",
      "268072 HI161745.4+141108 244.44082642 14.18249989 ...   9.4 2.39 19.5    9\n",
      "268293 HI161822.2+003834 244.59291077  0.64583331 ...   5.1 1.27 11.6    9\n",
      "268242 HI162010.5+260503 245.05001831 26.08611107 ...   0.9 0.31  5.5    9\n",
      "268294 HI162012.6+005014 245.05334473  0.84055555 ...   9.5 1.72 14.3    9\n",
      "268213 HI162235.5+050843 245.64665222  5.14333344 ...  10.4 2.66 22.0    9\n",
      "268329 HI162249.0+035911 245.70207214  3.98583341 ...   2.7 0.46  6.6    9\n",
      "268330 HI162336.1+034826  245.8999939  3.80749989 ...   3.4 0.97 11.1    9\n",
      "268332 HI162426.4+035821  246.1083374  3.97194457 ...   1.3 0.42  7.4    9\n",
      "268073 HI162436.5+124345 246.15332031 12.72694397 ...   4.7 0.96 11.9    9\n",
      "268074 HI162447.5+124355 246.19915771 12.72944355 ...   7.2 1.07 11.2    9\n",
      "268244 HI163803.6+273025 249.51998901 27.50805473 ...   6.5 0.69  9.8    9\n"
     ]
    }
   ],
   "source": [
    "print test"
   ]
  },
  {
   "cell_type": "code",
   "execution_count": null,
   "metadata": {
    "collapsed": true
   },
   "outputs": [],
   "source": []
  }
 ],
 "metadata": {
  "kernelspec": {
   "display_name": "Python [default]",
   "language": "python",
   "name": "python2"
  },
  "language_info": {
   "codemirror_mode": {
    "name": "ipython",
    "version": 2
   },
   "file_extension": ".py",
   "mimetype": "text/x-python",
   "name": "python",
   "nbconvert_exporter": "python",
   "pygments_lexer": "ipython2",
   "version": "2.7.12"
  }
 },
 "nbformat": 4,
 "nbformat_minor": 1
}
