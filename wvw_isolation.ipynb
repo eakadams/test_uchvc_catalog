{
 "cells": [
  {
   "cell_type": "markdown",
   "metadata": {},
   "source": [
    "A notebook focused just on defining the isolation criteria from the large WvW complexes\n",
    "\n",
    "Restarting here on 18 July 2018. Tried to skip straight to UCHVC isolation, but I'm not trusting the code I have for computing distances. So I will restart here, from the top. And look at old IDL code at the same time to compare.\n",
    "\n",
    "Will also create uchvc_catalog.py where I can place code that I want to script and call w/in notebooks."
   ]
  },
  {
   "cell_type": "code",
   "execution_count": 1,
   "metadata": {
    "collapsed": true
   },
   "outputs": [],
   "source": [
    "%matplotlib inline\n",
    "%load_ext autoreload\n",
    "%autoreload 2"
   ]
  },
  {
   "cell_type": "code",
   "execution_count": 2,
   "metadata": {
    "collapsed": true
   },
   "outputs": [],
   "source": [
    "import sys\n",
    "sys.path.append('/Users/adams/python')"
   ]
  },
  {
   "cell_type": "code",
   "execution_count": 5,
   "metadata": {},
   "outputs": [],
   "source": [
    "import numpy as np\n",
    "import matplotlib.pyplot as plt\n",
    "from astropy.table import Table, Column\n",
    "from astropy.io import ascii\n",
    "from astropy import coordinates as coord\n",
    "from astropy import units as u\n",
    "import alfalfa\n",
    "import uchvcs\n",
    "import uchvc_catalog as uc\n",
    "from astropy.coordinates import SkyCoord"
   ]
  },
  {
   "cell_type": "code",
   "execution_count": 6,
   "metadata": {},
   "outputs": [
    {
     "name": "stderr",
     "output_type": "stream",
     "text": [
      "WARNING: AstropyDeprecationWarning: Initializing frames using the ``unit`` argument is now deprecated. Use SkyCoord or pass Quantity instances to frames instead. [astropy.coordinates.baseframe]\n"
     ]
    },
    {
     "name": "stdout",
     "output_type": "stream",
     "text": [
      "['ID', 'RA', 'Dec', 'l', 'b', 'cz', 'vlsr', 'vgsr', 'vlg', 'vdev', 'flux']\n",
      "617 534\n"
     ]
    }
   ],
   "source": [
    "#Get the WvW catalog\n",
    "wvw_cat = uc.get_wvw('/Users/adams/data/uchvcs/catalog/spring/wvw_hvc_cat_edited.txt')\n",
    "wvw_cmplx_cat = uc.get_wvw('/Users/adams/data/uchvcs/catalog/spring/wvw_hvc_cat_edited.txt',complex=True)\n",
    "\n",
    "print wvw_cat.colnames\n",
    "print len(wvw_cat),len(wvw_cmplx_cat)"
   ]
  },
  {
   "cell_type": "code",
   "execution_count": 7,
   "metadata": {},
   "outputs": [
    {
     "name": "stdout",
     "output_type": "stream",
     "text": [
      "47 47\n"
     ]
    }
   ],
   "source": [
    "lg_colnames = ['Name', 'RAh','RAm','RAs','Decd','Decm','Decs','E(B-V)','(m-M)o','(m-M)o_err+','(m-M)o_err-',\n",
    "           'vh','vh_err+','vh_err-','Vmag','Vmag_err+','Vmag_err-','PA','PA_err+','PA_err-',\n",
    "           'e','e_err+','e_err-','muVo','muVo_err+','muVo_err-','rh','rh_err+','rh_err-',\n",
    "           'sigma_s','sigma_s_err+','sigma_s_err-','vrot_s','vrot_s_err+','vrot_s_err-',\n",
    "           'M_HI','sigma_g','sigma_g_err+','sigma_g_err-','vrot_g','vrot_g_err+','vrot_g_err-',\n",
    "           '[Fe/H]','[Fe/H]_err+','[Fe/H]_err-','F','References']\n",
    "\n",
    "np.sort(lg_colnames)\n",
    "lg_colstarts =(0,18,21,24,29,33,36,39,45,51,56,62,68,73,78,83,87,91,97,102,107,112,117,122,127,131,135,142,\n",
    "               148,154,159,164,169,174,179,184,189,194,199,204,210,215,220,226,231,236,238)\n",
    "\n",
    "print len(lg_colstarts), len(lg_colnames)"
   ]
  },
  {
   "cell_type": "code",
   "execution_count": 8,
   "metadata": {},
   "outputs": [
    {
     "name": "stdout",
     "output_type": "stream",
     "text": [
      "['Names', 'RA', 'Dec', 'cz']\n"
     ]
    }
   ],
   "source": [
    "#Get the LG catalog\n",
    "#That means figure out how to read it in properly\n",
    "lgfile = '/Users/adams/data/uchvcs/catalog/NearbyGalaxies_sep15.dat'\n",
    "\n",
    "lgcat = uc.get_lg(lgfile)\n",
    "print lgcat.colnames"
   ]
  },
  {
   "cell_type": "code",
   "execution_count": 9,
   "metadata": {},
   "outputs": [
    {
     "name": "stdout",
     "output_type": "stream",
     "text": [
      "132 19\n"
     ]
    }
   ],
   "source": [
    "#Now would also like to isolate to sources within ALFALFA spring footprint\n",
    "#Since that avoids MS, which may bias isolation criteria (it takes up a lot of sky!)\n",
    "\n",
    "coord_lg = SkyCoord(lgcat['RA'],lgcat['Dec'],frame=\"icrs\",unit=\"deg\")\n",
    "lg_spring_ind = uc.get_spring_indices(coord_lg)\n",
    "\n",
    "lgcat_spring = lgcat[lg_spring_ind]\n",
    "\n",
    "print len(lgcat),len(lgcat_spring)\n",
    "#print lgcat_spring"
   ]
  },
  {
   "cell_type": "code",
   "execution_count": 18,
   "metadata": {},
   "outputs": [
    {
     "name": "stdout",
     "output_type": "stream",
     "text": [
      "For WvW complex sources: 0.928838951311 have complex NN at 20deg, 0.915721231767 have WvW cloud at 20deg\n",
      "For all WvW clouds sources: 0.958801498127 have complex NN at 20deg, 0.920583468395 have WvW cloud at 20deg\n",
      "For LG sources: 0.0149812734082 have complex NN at 20deg, 0.0129659643436 have WvW cloud at 20deg\n",
      "For LG spring sources: 0.00374531835206 have complex NN at 20deg, 0.0032414910859 have WvW cloud at 20deg\n",
      "For Nov 12 LG gals sources: 0.0112359550562 have complex NN at 20deg, 0.0097244732577 have WvW cloud at 20deg\n",
      "[ 0.92883895  0.9588015   0.01498127  0.00374532  0.01123596]\n",
      "[ 0.91572123  0.92058347  0.01296596  0.00324149  0.00972447]\n"
     ]
    },
    {
     "data": {
      "image/png": "[encoded data removed]",
      "text/plain": [
       "<matplotlib.figure.Figure at 0x1119b6690>"
      ]
     },
     "metadata": {},
     "output_type": "display_data"
    },
    {
     "data": {
      "image/png": "[encoded data removed]",
      "text/plain": [
       "<matplotlib.figure.Figure at 0x111d15410>"
      ]
     },
     "metadata": {},
     "output_type": "display_data"
    }
   ],
   "source": [
    "#Look at isolation from WvW complexes (and clouds)\n",
    "#Can set two criteria:\n",
    "#general based on full sky, stricter for spring ALFALFA sky (isolated from HVC structure)\n",
    "#But maybe just stick with one criteria - best set for WvW complexes/clouds\n",
    "#And may miss one or two LG galaxies, but that'st he price\n",
    "\n",
    "\n",
    "coord_wvw = SkyCoord(wvw_cat['RA'],wvw_cat['Dec'],\"icrs\", unit=\"deg\")\n",
    "coord_wvw_cmplx = SkyCoord(wvw_cmplx_cat['RA'],wvw_cmplx_cat['Dec'],\"icrs\", unit=\"deg\")\n",
    "\n",
    "coord_lg_spring = SkyCoord(lgcat_spring['RA'],lgcat_spring['Dec'],frame=\"icrs\",unit=\"deg\")\n",
    "labels=['WvW complex', 'all WvW clouds', 'LG', 'LG spring','Nov 12 LG gals']\n",
    "\n",
    "#temporary LG test:\n",
    "lg=ascii.read('/Users/adams/data/uchvcs/catalog/local_gals_positions_nov12.txt')\n",
    "lg_ra,lg_dec = alfalfa.get_radec('/Users/adams/data/uchvcs/catalog/local_gals_positions_nov12.txt')\n",
    "coord_LG = SkyCoord(lg_ra,lg_dec,frame=\"icrs\", unit=\"deg\")\n",
    "\n",
    "\n",
    "fig,cf_cutoff_cmplx=uc.plot_Nth_neighbors(coord_wvw_cmplx,wvw_cmplx_cat['cz'],\n",
    "                          coords2=[coord_wvw_cmplx,coord_wvw,coord_lg,\n",
    "                                   coord_lg_spring,coord_LG],\n",
    "                          vel2=[wvw_cmplx_cat['cz'],wvw_cat['cz'],lgcat['cz'],\n",
    "                                lgcat_spring['cz'],lg['vh']],\n",
    "                          labels=labels,\n",
    "                          cutoff=20,f=0.5)\n",
    "\n",
    "\n",
    "plt.title('Nearest neighbor in a WvW complex')\n",
    "\n",
    "#for nearest neighbor in a WvW complex\n",
    "plt.xlim(0,40)\n",
    "plt.plot([20,20],[0,2],'k:')\n",
    "#plt.plot([])\n",
    "\n",
    "fig2,cf_cutoff_wvw=uc.plot_Nth_neighbors(coord_wvw,wvw_cat['cz'],\n",
    "                          coords2=[coord_wvw_cmplx,coord_wvw,coord_lg,\n",
    "                                   coord_lg_spring,coord_LG],\n",
    "                          vel2=[wvw_cmplx_cat['cz'],wvw_cat['cz'],lgcat['cz'],\n",
    "                                lgcat_spring['cz'],lg['vh']],\n",
    "                          labels=labels,\n",
    "                          cutoff=20,f=0.5)\n",
    "\n",
    "plt.title('Nearest neighbor to a WvW cloud')\n",
    "plt.xlim(0,40)\n",
    "plt.plot([20,20],[0,2],'k:')\n",
    "\n",
    "\n",
    "#also want to get values for my cutoff\n",
    "#add that to code\n",
    "for (lab,cmplx,wvw) in zip(labels,cf_cutoff_cmplx,cf_cutoff_wvw):\n",
    "    print 'For {0} sources: {1} have complex NN at 20deg, {2} have WvW cloud at 20deg'.format(lab,cmplx,wvw)\n",
    "\n",
    "print cf_cutoff_cmplx\n",
    "print cf_cutoff_wvw\n"
   ]
  },
  {
   "cell_type": "code",
   "execution_count": 9,
   "metadata": {
    "collapsed": true
   },
   "outputs": [],
   "source": [
    "#Also want to get the exact numbers out for my cutoff!\n"
   ]
  },
  {
   "cell_type": "code",
   "execution_count": 10,
   "metadata": {},
   "outputs": [],
   "source": []
  },
  {
   "cell_type": "code",
   "execution_count": null,
   "metadata": {
    "collapsed": true
   },
   "outputs": [],
   "source": []
  },
  {
   "cell_type": "code",
   "execution_count": null,
   "metadata": {
    "collapsed": true
   },
   "outputs": [],
   "source": []
  },
  {
   "cell_type": "code",
   "execution_count": 8,
   "metadata": {},
   "outputs": [
    {
     "name": "stdout",
     "output_type": "stream",
     "text": [
      "check got hiname\n",
      "check got ra,dec\n",
      "check got l,b\n",
      "check got vels\n",
      "done with cands\n"
     ]
    }
   ],
   "source": [
    "#get candidates catalog\n",
    "#note that spring candidate catalog is complete\n",
    "#but for fall sky I will need to create the .csv file since I finished the grids last time I was at Cornell\n",
    "name='/Users/adams/data/uchvcs/catalog/spring/spring_candidates.csv'\n",
    "spring_cands=alfalfa.get_cat(name)\n",
    "\n",
    "print 'done with cands'"
   ]
  },
  {
   "cell_type": "code",
   "execution_count": 5,
   "metadata": {},
   "outputs": [
    {
     "name": "stdout",
     "output_type": "stream",
     "text": [
      "done with code 9s\n"
     ]
    }
   ],
   "source": [
    "\n",
    "#and code9s for comparison:\n",
    "code9s = ascii.read('/Users/adams/data/uchvcs/catalog/code9s_cat.txt')\n",
    "print 'done with code 9s'"
   ]
  },
  {
   "cell_type": "code",
   "execution_count": 6,
   "metadata": {},
   "outputs": [
    {
     "name": "stdout",
     "output_type": "stream",
     "text": [
      "['AGC', 'HIname', 'RA', 'Dec', 'l', 'b', 'cz', 'vlsr', 'vgsr', 'vlg', 'vdev', 'w50', 'hsize', 'flux', 'SN', 'code']\n"
     ]
    }
   ],
   "source": [
    "print code9s.colnames"
   ]
  },
  {
   "cell_type": "code",
   "execution_count": 7,
   "metadata": {
    "collapsed": true
   },
   "outputs": [],
   "source": [
    "#also want to get just spring code9s for comparison purposes\n",
    "#ind1 = np.where( code9s['RA']<270 )\n",
    "#ind2=np.where(code9s['RA']> 60)\n",
    "ind=np.where((code9s['RA']<270) & (code9s['RA']> 60) )\n",
    "spring_code9s = code9s[ind]"
   ]
  },
  {
   "cell_type": "code",
   "execution_count": 10,
   "metadata": {},
   "outputs": [
    {
     "name": "stdout",
     "output_type": "stream",
     "text": [
      "check got hiname\n",
      "check got ra,dec\n",
      "check got l,b\n",
      "check got vels\n",
      "check got hiname\n",
      "check got ra,dec\n",
      "check got l,b\n",
      "check got vels\n",
      "       AGC               HIname       ...         SN                 code       \n",
      "------------------ ------------------ ... ------------------ -------------------\n",
      "1.49166814624e-154 1.49166814624e-154 ... 1.49166814624e-154  1.49166814624e-154\n",
      "-2.31584192755e+77 1.49166814624e-154 ... -1.72723381753e-77  1.49166814624e-154\n",
      "    -139.185592329  2.2044977203e-314 ...                nan  1.82804288961e-322\n",
      "     113.759167272 2.20449994755e-314 ... 2.20295126123e-314 -1.11080064707e-181\n",
      "    -38.9363631247  2.2045000266e-314 ...                0.0  2.15530722248e-314\n",
      "     150.704924524 2.20450006613e-314 ...  2.1228791171e-314  2.12463279323e-314\n",
      "     52.9649706959 2.20450010565e-314 ... 4.94065645841e-324  -1.05252821915e-08\n",
      "    -51.9378831501 2.20450014518e-314 ... 4.94065645841e-324  2.19594962377e-314\n",
      "     21.3884850865  2.2045001847e-314 ... 3.45845952089e-323  1.49166814624e-154\n",
      "    -30.0738471738 2.20450022423e-314 ... 2.19537636138e-314  1.49166814624e-154\n",
      "     244.807020507 2.20450026375e-314 ... 2.12217913675e-314  1.49166814624e-154\n",
      "               ...                ... ...                ...                 ...\n",
      "     128.181640094 2.20451228733e-314 ...  2.1907213381e-314 -1.97799203548e-272\n",
      "     113.385752333 2.20451232686e-314 ... 2.21021717244e-314  2.19592033951e-314\n",
      "      243.53375965 2.20451236638e-314 ...                0.0  2.19140848065e-314\n",
      "    -135.568099707 2.20451240591e-314 ...                0.0                 0.0\n",
      "     110.426081721 2.20451244543e-314 ...                0.0                 0.0\n",
      "    -63.6631212492 2.20451248496e-314 ...   1.0892837008e+18                 0.0\n",
      "     288.182713341 2.20451252449e-314 ... 2.19072382424e-314                 0.0\n",
      "     158.351546812 2.20451256401e-314 ... 2.20576965278e-314                 0.0\n",
      "    -117.068595406 2.20451260354e-314 ...                0.0                 0.0\n",
      "     106.481803175 2.20451264306e-314 ...                0.0 -1.97799203548e-272\n",
      "     57.6571682418 2.20451268259e-314 ...                0.0  2.19592035927e-314\n",
      "check got hiname\n",
      "check got ra,dec\n",
      "check got l,b\n",
      "check got vels\n"
     ]
    }
   ],
   "source": [
    "#also want WvW catalog\n",
    "wvw=alfalfa.get_cat('/Users/adams/data/uchvcs/catalog/spring/wvw_hvc_cat_edited.txt')\n",
    "#and all LG gals\n",
    "#print wvw\n",
    "#plus LG gals in ALFALFA footprint\n",
    "lg=alfalfa.get_cat('/Users/adams/data/uchvcs/catalog/local_gals_positions_nov12.txt')\n",
    "print lg\n",
    "\n",
    "#get spring only local also:\n",
    "lg_spring=alfalfa.get_cat('/Users/adams/data/uchvcs/catalog/local_gals_spring_positions_nov12.txt')\n"
   ]
  },
  {
   "cell_type": "code",
   "execution_count": 11,
   "metadata": {},
   "outputs": [
    {
     "name": "stdout",
     "output_type": "stream",
     "text": [
      "        AGC                HIname       ...        code             WvW     \n",
      "------------------- ------------------- ... ------------------ -------------\n",
      " 1.49166814624e-154  1.49166814624e-154 ... 1.49166814624e-154 42.5164740474\n",
      "-3.10503637572e+231       2.00000012407 ... 1.49166814624e-154 28.3538523982\n",
      " 2.96439387505e-323  2.20621379705e-314 ... 2.20744420232e-314 29.1585738292\n",
      "                0.0  4.94065645841e-324 ...    -0.839315891266 25.1476807142\n",
      "     -30.0738372803  2.20852137314e-314 ...                0.0  38.286607322\n",
      "  1.15998411999e-28  2.20852137709e-314 ...                0.0 19.1141316563\n",
      " 1.99270016953e+209   2.2085352465e-314 ...                0.0 48.1220519891\n",
      " 1.44499267528e+214  2.17912015105e-314 ... 2.17912015105e-314 33.7628150755\n",
      " 3.80985006741e+180  6.33886223614e-321 ...                1.0 45.2060538498\n",
      " 4.71357970852e+257                 0.0 ...                0.0  19.796260463\n",
      "      -94.033504841 -1.28822983327e-231 ... 1.49166814624e-154 18.8811561981\n",
      " 9.27451942046e-309  8.34402834829e-309 ... 8.34402834886e-309 63.9453474998\n"
     ]
    },
    {
     "name": "stderr",
     "output_type": "stream",
     "text": [
      "/Users/adams/python/alfalfa.py:355: RuntimeWarning: invalid value encountered in arccos\n",
      "  np.cos(dec1)*np.cos(dec2)*np.cos((ra1-ra2)) )\n"
     ]
    }
   ],
   "source": [
    "#now I want to check isolation from WvW catalog - here is where I will have strictest criterion.\n",
    "#Will look only at spring sky\n",
    "#i would like to be able to add a column to spring_cands that contains the distance to nearest WvW cloud using f=0.5 ()\n",
    "#note that this is just using add_col_neigh_dist with Nth=1 (default, takes closets objects)\n",
    "#print spring_cands\n",
    "\n",
    "spring_cands_wvw = alfalfa.add_col_neigh_dist(spring_cands,wvw,name='WvW')\n",
    "\n",
    "#print spring_cands_wvw\n",
    "\n",
    "lg_wvw = alfalfa.add_col_neigh_dist(lg,wvw,name='WvW')\n",
    "\n",
    "lg_spring_wvw = alfalfa.add_col_neigh_dist(lg_spring,wvw,name='WvW')\n",
    "\n",
    "#get same for WvW catalog - want to know the typical linking scale there\n",
    "\n",
    "wvw_dist = alfalfa.add_col_neigh_dist(wvw,wvw,Nth=2,name='dist_wvw')\n",
    "\n",
    "print lg_spring_wvw\n",
    "\n",
    "codes9s = alfalfa.add_col_neigh_dist(code9s,wvw,name='WvW')\n",
    "\n",
    "spring_code9s=alfalfa.add_col_neigh_dist(spring_code9s,wvw,name='WvW')\n",
    "\n",
    "#print lg_wvw"
   ]
  },
  {
   "cell_type": "code",
   "execution_count": 12,
   "metadata": {},
   "outputs": [
    {
     "data": {
      "text/plain": [
       "[<matplotlib.lines.Line2D at 0x10a1bafd0>]"
      ]
     },
     "execution_count": 12,
     "metadata": {},
     "output_type": "execute_result"
    },
    {
     "data": {
      "image/png": "[encoded data removed]",
      "text/plain": [
       "<matplotlib.figure.Figure at 0x10a1400d0>"
      ]
     },
     "metadata": {},
     "output_type": "display_data"
    }
   ],
   "source": [
    "#sweet\n",
    "#now I want to plot the distance to nearest WvW neighbor for these different pops\n",
    "#will also want to separate spring sky LG gals\n",
    "#want to do this as cumulative distribution function - is there an easy way to do this in matplotlib?\n",
    "values_wvw, bins = np.histogram(wvw_dist['dist_wvw'], bins=100,range=(0,50))\n",
    "n_wvw= float(len(wvw_dist['dist_wvw']))\n",
    "cum_wvw = np.cumsum(values_wvw)\n",
    "\n",
    "values_gals, bins = np.histogram(lg_wvw['WvW'], bins=100,range=(0,50))\n",
    "cum_gals = np.cumsum(values_gals)/float(len(lg_wvw))\n",
    "\n",
    "values_cands,bins = np.histogram(spring_cands_wvw['WvW'], bins=100,range=(0,50))\n",
    "cum_cands = np.cumsum(values_cands)/float(len(spring_cands_wvw))\n",
    "\n",
    "#get spring gals only:\n",
    "values_spring_gals, bins = np.histogram(lg_spring_wvw['WvW'], bins=100,range=(0,50))\n",
    "cum_spring_gals = np.cumsum(values_spring_gals)/float(len(lg_spring_wvw))\n",
    "            \n",
    "values_code9s,bins = np.histogram(code9s['WvW'], bins=100,range=(0,50))\n",
    "cum_code9s = np.cumsum(values_code9s)/float(len(code9s))\n",
    "\n",
    "\n",
    "values_spring_code9s,bins = np.histogram(spring_code9s['WvW'], bins=100,range=(0,50))\n",
    "cum_spring_code9s = np.cumsum(values_spring_code9s)/float(len(spring_code9s))\n",
    "    \n",
    "# plot the cumulative function\n",
    "plt.plot(bins[:-1], cum_wvw/n_wvw, c='blue')\n",
    "plt.plot(bins[:-1],cum_gals,'r:')\n",
    "plt.plot(bins[:-1],cum_spring_gals,'r')\n",
    "\n",
    "plt.plot(bins[:-1],cum_cands,c='magenta')\n",
    "\n",
    "plt.plot(bins[:-1],cum_code9s,'g:')\n",
    "plt.plot(bins[:-1],cum_spring_code9s,'g')\n",
    "\n",
    "plt.plot([25,25],[0,1],'k')\n",
    "plt.plot([18,18],[0,1],'k')"
   ]
  },
  {
   "cell_type": "code",
   "execution_count": null,
   "metadata": {
    "collapsed": true
   },
   "outputs": [],
   "source": [
    "print "
   ]
  }
 ],
 "metadata": {
  "kernelspec": {
   "display_name": "Python [default]",
   "language": "python",
   "name": "python2"
  },
  "language_info": {
   "codemirror_mode": {
    "name": "ipython",
    "version": 2
   },
   "file_extension": ".py",
   "mimetype": "text/x-python",
   "name": "python",
   "nbconvert_exporter": "python",
   "pygments_lexer": "ipython2",
   "version": "2.7.12"
  }
 },
 "nbformat": 4,
 "nbformat_minor": 1
}
